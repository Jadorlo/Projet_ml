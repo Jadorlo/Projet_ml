{
 "cells": [
  {
   "cell_type": "code",
   "execution_count": 120,
   "metadata": {},
   "outputs": [],
   "source": [
    "import os\n",
    "import pandas as pd\n",
    "import numpy as np\n",
    "import matplotlib.pyplot as plt\n",
    "from dotenv import load_dotenv\n",
    "from sklearn.preprocessing import MinMaxScaler\n",
    "from sklearn.metrics import confusion_matrix\n",
    "import tensorflow as tf\n",
    "from tensorflow.keras.models import Sequential\n",
    "from tensorflow.keras.layers import LSTM, Input, Dense\n",
    "from tensorflow.keras.callbacks import ModelCheckpoint\n",
    "from tensorflow.keras.losses import MeanSquaredError\n",
    "from tensorflow.keras.metrics import RootMeanSquaredError\n",
    "from tensorflow.keras.optimizers import Adam\n",
    "from tensorflow.keras.models import load_model\n",
    "load_dotenv()\n",
    "\n",
    "WD = os.getenv('working_directory')"
   ]
  },
  {
   "cell_type": "markdown",
   "metadata": {},
   "source": [
    "# TENSORFLOW"
   ]
  },
  {
   "cell_type": "markdown",
   "metadata": {},
   "source": [
    "## CLOSE PRICE SEULEMENT, en 1d (Daily)"
   ]
  },
  {
   "cell_type": "markdown",
   "metadata": {},
   "source": [
    "### PRE PROCESSING"
   ]
  },
  {
   "cell_type": "code",
   "execution_count": 121,
   "metadata": {},
   "outputs": [],
   "source": [
    "# fonctions communes aux différents modèles\n",
    "\n",
    "def load_data(name):\n",
    "    \"\"\"\n",
    "    Load un dataframe depuis un fichier csv data/name.csv\n",
    "    \"\"\"\n",
    "    return pd.read_csv(f'{WD}/data/{name}.csv') \n",
    "\n",
    "def get_date(df):\n",
    "    return df['Open_time'].copy()\n",
    "\n",
    "def df_to_numpy(df):\n",
    "    return df.to_numpy()\n",
    "\n",
    "def train_test_val(X, y, date, train_size):\n",
    "    \"\"\"\n",
    "    \"\"\"\n",
    "    q_train_size = int(len(X)*train_size)\n",
    "    q_val_test_size = int(len(X)*(train_size+(1-train_size)/2))\n",
    "\n",
    "    X_train, y_train = X[:q_train_size], y[:q_train_size]\n",
    "    X_val, y_val = X[q_train_size:q_val_test_size], y[q_train_size:q_val_test_size]\n",
    "    X_test, y_test = X[q_val_test_size:], y[q_val_test_size:]\n",
    "\n",
    "    date_numpy = df_to_numpy(date)\n",
    "    date_train, date_val, date_test = date_numpy[:q_train_size], date_numpy[q_train_size:q_val_test_size], date_numpy[q_val_test_size:]\n",
    "    return date_train, X_train, y_train, date_val, X_val, y_val, date_test, X_test, y_test\n",
    "\n",
    "def main_pre_processing(name, is_one_var):\n",
    "    \"\"\"\n",
    "    Renvoie X_train, y_train, X_val, y_val, X_test, y_test pour le df\n",
    "    \"\"\"\n",
    "    df = load_data(name)\n",
    "    date = get_date(df)\n",
    "    if is_one_var:\n",
    "        df = get_close_price(df)\n",
    "        X, y, scaler_features, scaler_target = build_window_matrix_one_var(df, window_size=WINDOW_SIZE)\n",
    "    else:\n",
    "        df = rearrange_data(df)\n",
    "        X, y, scaler_features, scaler_target = build_window_matrix_multi_var(df, window_size=WINDOW_SIZE)\n",
    "    return train_test_val(X, y, date, train_size=0.8), scaler_features, scaler_target"
   ]
  },
  {
   "cell_type": "code",
   "execution_count": 122,
   "metadata": {},
   "outputs": [],
   "source": [
    "## Fonctions propres au modèle pour 1 seule variable Close_price\n",
    "def get_close_price(df):\n",
    "    \"\"\"\n",
    "    Extrait seulement le prix de cloture de la journée\n",
    "    \"\"\"\n",
    "    return df['Close_price'].copy()\n",
    "\n",
    "def build_window_matrix_one_var(df, window_size):\n",
    "    \"\"\"\n",
    "    \"\"\"\n",
    "    scaler = MinMaxScaler()\n",
    "\n",
    "    df_numpy = df_to_numpy(df).reshape(len(df), -1)\n",
    "    df_numpy_scaled = scaler.fit_transform(df_numpy)\n",
    "    \n",
    "    X = []\n",
    "    y = []\n",
    "    for i in range(len(df_numpy_scaled)-window_size):\n",
    "        row = [a for a in df_numpy_scaled[i:i+window_size]]\n",
    "        X.append(row)\n",
    "        y.append(df_numpy_scaled[i+window_size])\n",
    "\n",
    "    return np.array(X).astype(np.float32), np.array(y).astype(np.float32), scaler, scaler"
   ]
  },
  {
   "cell_type": "markdown",
   "metadata": {},
   "source": [
    "#### Pre processing du dataframe dataset_raw_1d"
   ]
  },
  {
   "cell_type": "code",
   "execution_count": 123,
   "metadata": {},
   "outputs": [
    {
     "name": "stdout",
     "output_type": "stream",
     "text": [
      "X_train : (394, 7, 1)\n",
      "y_train : (394, 1)\n",
      "X_val : (49, 7, 1)\n",
      "y_val : (49, 1)\n",
      "X_test : (50, 7, 1)\n",
      "y_test : (50, 1)\n"
     ]
    }
   ],
   "source": [
    "data_name = \"dataset_raw_1d\"\n",
    "is_one_var = True\n",
    "WINDOW_SIZE = 7\n",
    "(date_train, X_train, y_train, date_val, X_val, y_val, date_test, X_test, y_test), scaler_features, scaler_target = main_pre_processing(data_name, is_one_var)\n",
    "print(f'X_train : {X_train.shape}')\n",
    "print(f'y_train : {y_train.shape}')\n",
    "print(f'X_val : {X_val.shape}')\n",
    "print(f'y_val : {y_val.shape}')\n",
    "print(f'X_test : {X_test.shape}')\n",
    "print(f'y_test : {y_test.shape}')\n"
   ]
  },
  {
   "cell_type": "markdown",
   "metadata": {},
   "source": [
    "Format de X_train : 394 observations, 7 jours de données glissante, 1 variable Close_price\n",
    "\n",
    "Format de y_train : 394 observations, 1 variable Close_price pour le (WINDOW_SIZE+1 : 8ème jour)"
   ]
  },
  {
   "cell_type": "markdown",
   "metadata": {},
   "source": [
    "### TRAINING"
   ]
  },
  {
   "cell_type": "code",
   "execution_count": 124,
   "metadata": {},
   "outputs": [],
   "source": [
    "## Fonctions communes aux différents modèles pour l'entrainement\n",
    "def prepare_model(name, n_features):\n",
    "    \"\"\"\n",
    "    Set up le model\n",
    "    \"\"\"\n",
    "    # model = Sequential([Input((WINDOW_SIZE, n_features)),\n",
    "    #                     LSTM(64),\n",
    "    #                     Dense(32, activation='relu'),\n",
    "    #                     Dense(32, activation='relu'),\n",
    "    #                     Dense(1)\n",
    "    #                     ], name=name)\n",
    "    \n",
    "    model = Sequential([Input((WINDOW_SIZE, n_features)),\n",
    "                        LSTM(64),\n",
    "                        Dense(32, activation='relu'),\n",
    "                        Dense(32, activation='relu'),\n",
    "                        Dense(32, activation='relu'),\n",
    "                        Dense(1)\n",
    "                        ], name=name)\n",
    "    \n",
    "    return model\n",
    "\n",
    "def prepare_checkpoint(name):\n",
    "    \"\"\"\n",
    "    \"\"\"\n",
    "    return ModelCheckpoint(f'{WD}/src/model/models/{name}/', save_best_only=True, save_format='tf', monitor='loss')\n",
    "\n",
    "def train(model, learning_rate):\n",
    "    \"\"\"\n",
    "    \"\"\"\n",
    "    model.compile(loss=MeanSquaredError(), optimizer=Adam(learning_rate=learning_rate), metrics=[RootMeanSquaredError()])\n",
    "    return model\n",
    "\n",
    "def fit(model, cp, X_train, y_train, X_val, y_val, N_EPOCHS):\n",
    "    \"\"\"\n",
    "    \"\"\"\n",
    "    model.fit(X_train, y_train, validation_data=(X_val, y_val), epochs=N_EPOCHS, callbacks=[cp])\n",
    "    return model\n",
    "\n",
    "def main_training_model(model_name, scaler_features, scaler_target, X_train, y_train, X_val, y_val, N_EPOCHS):\n",
    "\n",
    "    cp = prepare_checkpoint(name=model_name)\n",
    "    model = prepare_model(name=model_name,n_features=X_train.shape[2])\n",
    "    model = train(model, 0.001)\n",
    "    model = fit(model, cp, X_train, y_train, X_val, y_val, N_EPOCHS)"
   ]
  },
  {
   "cell_type": "markdown",
   "metadata": {},
   "source": [
    "#### Training du modèle Close_price-dataset_raw_1d-100"
   ]
  },
  {
   "cell_type": "code",
   "execution_count": 125,
   "metadata": {},
   "outputs": [
    {
     "name": "stdout",
     "output_type": "stream",
     "text": [
      "Epoch 1/100\n",
      "11/13 [========================>.....] - ETA: 0s - loss: 0.1287 - root_mean_squared_error: 0.3587"
     ]
    },
    {
     "name": "stderr",
     "output_type": "stream",
     "text": [
      "WARNING:absl:Found untraced functions such as lstm_cell_54_layer_call_fn, lstm_cell_54_layer_call_and_return_conditional_losses while saving (showing 2 of 2). These functions will not be directly callable after loading.\n"
     ]
    },
    {
     "name": "stdout",
     "output_type": "stream",
     "text": [
      "INFO:tensorflow:Assets written to: /home/alexander.lunel/Private/ML/Projet_ml/src/model/models/Close_price-dataset_raw_1d-100/assets\n"
     ]
    },
    {
     "name": "stderr",
     "output_type": "stream",
     "text": [
      "INFO:tensorflow:Assets written to: /home/alexander.lunel/Private/ML/Projet_ml/src/model/models/Close_price-dataset_raw_1d-100/assets\n"
     ]
    },
    {
     "name": "stdout",
     "output_type": "stream",
     "text": [
      "13/13 [==============================] - 9s 539ms/step - loss: 0.1246 - root_mean_squared_error: 0.3531 - val_loss: 0.2288 - val_root_mean_squared_error: 0.4783\n",
      "Epoch 2/100\n",
      "12/13 [==========================>...] - ETA: 0s - loss: 0.0477 - root_mean_squared_error: 0.2184"
     ]
    },
    {
     "name": "stderr",
     "output_type": "stream",
     "text": [
      "WARNING:absl:Found untraced functions such as lstm_cell_54_layer_call_fn, lstm_cell_54_layer_call_and_return_conditional_losses while saving (showing 2 of 2). These functions will not be directly callable after loading.\n"
     ]
    },
    {
     "name": "stdout",
     "output_type": "stream",
     "text": [
      "INFO:tensorflow:Assets written to: /home/alexander.lunel/Private/ML/Projet_ml/src/model/models/Close_price-dataset_raw_1d-100/assets\n"
     ]
    },
    {
     "name": "stderr",
     "output_type": "stream",
     "text": [
      "INFO:tensorflow:Assets written to: /home/alexander.lunel/Private/ML/Projet_ml/src/model/models/Close_price-dataset_raw_1d-100/assets\n"
     ]
    },
    {
     "name": "stdout",
     "output_type": "stream",
     "text": [
      "13/13 [==============================] - 5s 419ms/step - loss: 0.0468 - root_mean_squared_error: 0.2164 - val_loss: 0.0209 - val_root_mean_squared_error: 0.1444\n",
      "Epoch 3/100\n",
      "13/13 [==============================] - ETA: 0s - loss: 0.0097 - root_mean_squared_error: 0.0986"
     ]
    },
    {
     "name": "stderr",
     "output_type": "stream",
     "text": [
      "WARNING:absl:Found untraced functions such as lstm_cell_54_layer_call_fn, lstm_cell_54_layer_call_and_return_conditional_losses while saving (showing 2 of 2). These functions will not be directly callable after loading.\n"
     ]
    },
    {
     "name": "stdout",
     "output_type": "stream",
     "text": [
      "INFO:tensorflow:Assets written to: /home/alexander.lunel/Private/ML/Projet_ml/src/model/models/Close_price-dataset_raw_1d-100/assets\n"
     ]
    },
    {
     "name": "stderr",
     "output_type": "stream",
     "text": [
      "INFO:tensorflow:Assets written to: /home/alexander.lunel/Private/ML/Projet_ml/src/model/models/Close_price-dataset_raw_1d-100/assets\n"
     ]
    },
    {
     "name": "stdout",
     "output_type": "stream",
     "text": [
      "13/13 [==============================] - 5s 418ms/step - loss: 0.0097 - root_mean_squared_error: 0.0986 - val_loss: 0.0227 - val_root_mean_squared_error: 0.1505\n",
      "Epoch 4/100\n",
      "12/13 [==========================>...] - ETA: 0s - loss: 0.0055 - root_mean_squared_error: 0.0742"
     ]
    },
    {
     "name": "stderr",
     "output_type": "stream",
     "text": [
      "WARNING:absl:Found untraced functions such as lstm_cell_54_layer_call_fn, lstm_cell_54_layer_call_and_return_conditional_losses while saving (showing 2 of 2). These functions will not be directly callable after loading.\n"
     ]
    },
    {
     "name": "stdout",
     "output_type": "stream",
     "text": [
      "INFO:tensorflow:Assets written to: /home/alexander.lunel/Private/ML/Projet_ml/src/model/models/Close_price-dataset_raw_1d-100/assets\n"
     ]
    },
    {
     "name": "stderr",
     "output_type": "stream",
     "text": [
      "INFO:tensorflow:Assets written to: /home/alexander.lunel/Private/ML/Projet_ml/src/model/models/Close_price-dataset_raw_1d-100/assets\n"
     ]
    },
    {
     "name": "stdout",
     "output_type": "stream",
     "text": [
      "13/13 [==============================] - 6s 507ms/step - loss: 0.0055 - root_mean_squared_error: 0.0738 - val_loss: 0.0041 - val_root_mean_squared_error: 0.0641\n",
      "Epoch 5/100\n",
      "11/13 [========================>.....] - ETA: 0s - loss: 0.0021 - root_mean_squared_error: 0.0459"
     ]
    },
    {
     "name": "stderr",
     "output_type": "stream",
     "text": [
      "WARNING:absl:Found untraced functions such as lstm_cell_54_layer_call_fn, lstm_cell_54_layer_call_and_return_conditional_losses while saving (showing 2 of 2). These functions will not be directly callable after loading.\n"
     ]
    },
    {
     "name": "stdout",
     "output_type": "stream",
     "text": [
      "INFO:tensorflow:Assets written to: /home/alexander.lunel/Private/ML/Projet_ml/src/model/models/Close_price-dataset_raw_1d-100/assets\n"
     ]
    },
    {
     "name": "stderr",
     "output_type": "stream",
     "text": [
      "INFO:tensorflow:Assets written to: /home/alexander.lunel/Private/ML/Projet_ml/src/model/models/Close_price-dataset_raw_1d-100/assets\n"
     ]
    },
    {
     "name": "stdout",
     "output_type": "stream",
     "text": [
      "13/13 [==============================] - 5s 432ms/step - loss: 0.0020 - root_mean_squared_error: 0.0451 - val_loss: 0.0033 - val_root_mean_squared_error: 0.0571\n",
      "Epoch 6/100\n",
      "11/13 [========================>.....] - ETA: 0s - loss: 0.0011 - root_mean_squared_error: 0.0330   "
     ]
    },
    {
     "name": "stderr",
     "output_type": "stream",
     "text": [
      "WARNING:absl:Found untraced functions such as lstm_cell_54_layer_call_fn, lstm_cell_54_layer_call_and_return_conditional_losses while saving (showing 2 of 2). These functions will not be directly callable after loading.\n"
     ]
    },
    {
     "name": "stdout",
     "output_type": "stream",
     "text": [
      "INFO:tensorflow:Assets written to: /home/alexander.lunel/Private/ML/Projet_ml/src/model/models/Close_price-dataset_raw_1d-100/assets\n"
     ]
    },
    {
     "name": "stderr",
     "output_type": "stream",
     "text": [
      "INFO:tensorflow:Assets written to: /home/alexander.lunel/Private/ML/Projet_ml/src/model/models/Close_price-dataset_raw_1d-100/assets\n"
     ]
    },
    {
     "name": "stdout",
     "output_type": "stream",
     "text": [
      "13/13 [==============================] - 6s 457ms/step - loss: 0.0011 - root_mean_squared_error: 0.0333 - val_loss: 0.0027 - val_root_mean_squared_error: 0.0524\n",
      "Epoch 7/100\n",
      "11/13 [========================>.....] - ETA: 0s - loss: 0.0010 - root_mean_squared_error: 0.0323"
     ]
    },
    {
     "name": "stderr",
     "output_type": "stream",
     "text": [
      "WARNING:absl:Found untraced functions such as lstm_cell_54_layer_call_fn, lstm_cell_54_layer_call_and_return_conditional_losses while saving (showing 2 of 2). These functions will not be directly callable after loading.\n"
     ]
    },
    {
     "name": "stdout",
     "output_type": "stream",
     "text": [
      "INFO:tensorflow:Assets written to: /home/alexander.lunel/Private/ML/Projet_ml/src/model/models/Close_price-dataset_raw_1d-100/assets\n"
     ]
    },
    {
     "name": "stderr",
     "output_type": "stream",
     "text": [
      "INFO:tensorflow:Assets written to: /home/alexander.lunel/Private/ML/Projet_ml/src/model/models/Close_price-dataset_raw_1d-100/assets\n"
     ]
    },
    {
     "name": "stdout",
     "output_type": "stream",
     "text": [
      "13/13 [==============================] - 6s 514ms/step - loss: 0.0010 - root_mean_squared_error: 0.0319 - val_loss: 0.0033 - val_root_mean_squared_error: 0.0574\n",
      "Epoch 8/100\n",
      "12/13 [==========================>...] - ETA: 0s - loss: 9.1603e-04 - root_mean_squared_error: 0.0303"
     ]
    },
    {
     "name": "stderr",
     "output_type": "stream",
     "text": [
      "WARNING:absl:Found untraced functions such as lstm_cell_54_layer_call_fn, lstm_cell_54_layer_call_and_return_conditional_losses while saving (showing 2 of 2). These functions will not be directly callable after loading.\n"
     ]
    },
    {
     "name": "stdout",
     "output_type": "stream",
     "text": [
      "INFO:tensorflow:Assets written to: /home/alexander.lunel/Private/ML/Projet_ml/src/model/models/Close_price-dataset_raw_1d-100/assets\n"
     ]
    },
    {
     "name": "stderr",
     "output_type": "stream",
     "text": [
      "INFO:tensorflow:Assets written to: /home/alexander.lunel/Private/ML/Projet_ml/src/model/models/Close_price-dataset_raw_1d-100/assets\n"
     ]
    },
    {
     "name": "stdout",
     "output_type": "stream",
     "text": [
      "13/13 [==============================] - 5s 424ms/step - loss: 9.2376e-04 - root_mean_squared_error: 0.0304 - val_loss: 0.0047 - val_root_mean_squared_error: 0.0684\n",
      "Epoch 9/100\n",
      "13/13 [==============================] - 0s 14ms/step - loss: 0.0010 - root_mean_squared_error: 0.0319 - val_loss: 0.0040 - val_root_mean_squared_error: 0.0635\n",
      "Epoch 10/100\n",
      "13/13 [==============================] - 0s 14ms/step - loss: 9.5341e-04 - root_mean_squared_error: 0.0309 - val_loss: 0.0035 - val_root_mean_squared_error: 0.0592\n",
      "Epoch 11/100\n",
      "11/13 [========================>.....] - ETA: 0s - loss: 8.7727e-04 - root_mean_squared_error: 0.0296"
     ]
    },
    {
     "name": "stderr",
     "output_type": "stream",
     "text": [
      "WARNING:absl:Found untraced functions such as lstm_cell_54_layer_call_fn, lstm_cell_54_layer_call_and_return_conditional_losses while saving (showing 2 of 2). These functions will not be directly callable after loading.\n"
     ]
    },
    {
     "name": "stdout",
     "output_type": "stream",
     "text": [
      "INFO:tensorflow:Assets written to: /home/alexander.lunel/Private/ML/Projet_ml/src/model/models/Close_price-dataset_raw_1d-100/assets\n"
     ]
    },
    {
     "name": "stderr",
     "output_type": "stream",
     "text": [
      "INFO:tensorflow:Assets written to: /home/alexander.lunel/Private/ML/Projet_ml/src/model/models/Close_price-dataset_raw_1d-100/assets\n"
     ]
    },
    {
     "name": "stdout",
     "output_type": "stream",
     "text": [
      "13/13 [==============================] - 6s 465ms/step - loss: 8.5320e-04 - root_mean_squared_error: 0.0292 - val_loss: 0.0039 - val_root_mean_squared_error: 0.0623\n",
      "Epoch 12/100\n",
      "13/13 [==============================] - 0s 14ms/step - loss: 8.7113e-04 - root_mean_squared_error: 0.0295 - val_loss: 0.0030 - val_root_mean_squared_error: 0.0550\n",
      "Epoch 13/100\n",
      "13/13 [==============================] - ETA: 0s - loss: 8.2550e-04 - root_mean_squared_error: 0.0287"
     ]
    },
    {
     "name": "stderr",
     "output_type": "stream",
     "text": [
      "WARNING:absl:Found untraced functions such as lstm_cell_54_layer_call_fn, lstm_cell_54_layer_call_and_return_conditional_losses while saving (showing 2 of 2). These functions will not be directly callable after loading.\n"
     ]
    },
    {
     "name": "stdout",
     "output_type": "stream",
     "text": [
      "INFO:tensorflow:Assets written to: /home/alexander.lunel/Private/ML/Projet_ml/src/model/models/Close_price-dataset_raw_1d-100/assets\n"
     ]
    },
    {
     "name": "stderr",
     "output_type": "stream",
     "text": [
      "INFO:tensorflow:Assets written to: /home/alexander.lunel/Private/ML/Projet_ml/src/model/models/Close_price-dataset_raw_1d-100/assets\n"
     ]
    },
    {
     "name": "stdout",
     "output_type": "stream",
     "text": [
      "13/13 [==============================] - 6s 518ms/step - loss: 8.2550e-04 - root_mean_squared_error: 0.0287 - val_loss: 0.0030 - val_root_mean_squared_error: 0.0547\n",
      "Epoch 14/100\n",
      "13/13 [==============================] - 0s 14ms/step - loss: 8.4873e-04 - root_mean_squared_error: 0.0291 - val_loss: 0.0036 - val_root_mean_squared_error: 0.0598\n",
      "Epoch 15/100\n",
      "12/13 [==========================>...] - ETA: 0s - loss: 8.2352e-04 - root_mean_squared_error: 0.0287"
     ]
    },
    {
     "name": "stderr",
     "output_type": "stream",
     "text": [
      "WARNING:absl:Found untraced functions such as lstm_cell_54_layer_call_fn, lstm_cell_54_layer_call_and_return_conditional_losses while saving (showing 2 of 2). These functions will not be directly callable after loading.\n"
     ]
    },
    {
     "name": "stdout",
     "output_type": "stream",
     "text": [
      "INFO:tensorflow:Assets written to: /home/alexander.lunel/Private/ML/Projet_ml/src/model/models/Close_price-dataset_raw_1d-100/assets\n"
     ]
    },
    {
     "name": "stderr",
     "output_type": "stream",
     "text": [
      "INFO:tensorflow:Assets written to: /home/alexander.lunel/Private/ML/Projet_ml/src/model/models/Close_price-dataset_raw_1d-100/assets\n"
     ]
    },
    {
     "name": "stdout",
     "output_type": "stream",
     "text": [
      "13/13 [==============================] - 6s 470ms/step - loss: 8.1380e-04 - root_mean_squared_error: 0.0285 - val_loss: 0.0031 - val_root_mean_squared_error: 0.0561\n",
      "Epoch 16/100\n",
      "12/13 [==========================>...] - ETA: 0s - loss: 8.0559e-04 - root_mean_squared_error: 0.0284"
     ]
    },
    {
     "name": "stderr",
     "output_type": "stream",
     "text": [
      "WARNING:absl:Found untraced functions such as lstm_cell_54_layer_call_fn, lstm_cell_54_layer_call_and_return_conditional_losses while saving (showing 2 of 2). These functions will not be directly callable after loading.\n"
     ]
    },
    {
     "name": "stdout",
     "output_type": "stream",
     "text": [
      "INFO:tensorflow:Assets written to: /home/alexander.lunel/Private/ML/Projet_ml/src/model/models/Close_price-dataset_raw_1d-100/assets\n"
     ]
    },
    {
     "name": "stderr",
     "output_type": "stream",
     "text": [
      "INFO:tensorflow:Assets written to: /home/alexander.lunel/Private/ML/Projet_ml/src/model/models/Close_price-dataset_raw_1d-100/assets\n"
     ]
    },
    {
     "name": "stdout",
     "output_type": "stream",
     "text": [
      "13/13 [==============================] - 5s 441ms/step - loss: 7.9380e-04 - root_mean_squared_error: 0.0282 - val_loss: 0.0034 - val_root_mean_squared_error: 0.0587\n",
      "Epoch 17/100\n",
      "12/13 [==========================>...] - ETA: 0s - loss: 7.9810e-04 - root_mean_squared_error: 0.0283"
     ]
    },
    {
     "name": "stderr",
     "output_type": "stream",
     "text": [
      "WARNING:absl:Found untraced functions such as lstm_cell_54_layer_call_fn, lstm_cell_54_layer_call_and_return_conditional_losses while saving (showing 2 of 2). These functions will not be directly callable after loading.\n"
     ]
    },
    {
     "name": "stdout",
     "output_type": "stream",
     "text": [
      "INFO:tensorflow:Assets written to: /home/alexander.lunel/Private/ML/Projet_ml/src/model/models/Close_price-dataset_raw_1d-100/assets\n"
     ]
    },
    {
     "name": "stderr",
     "output_type": "stream",
     "text": [
      "INFO:tensorflow:Assets written to: /home/alexander.lunel/Private/ML/Projet_ml/src/model/models/Close_price-dataset_raw_1d-100/assets\n"
     ]
    },
    {
     "name": "stdout",
     "output_type": "stream",
     "text": [
      "13/13 [==============================] - 7s 571ms/step - loss: 7.9314e-04 - root_mean_squared_error: 0.0282 - val_loss: 0.0025 - val_root_mean_squared_error: 0.0498\n",
      "Epoch 18/100\n",
      "13/13 [==============================] - 0s 15ms/step - loss: 8.3142e-04 - root_mean_squared_error: 0.0288 - val_loss: 0.0030 - val_root_mean_squared_error: 0.0548\n",
      "Epoch 19/100\n",
      "11/13 [========================>.....] - ETA: 0s - loss: 7.7972e-04 - root_mean_squared_error: 0.0279"
     ]
    },
    {
     "name": "stderr",
     "output_type": "stream",
     "text": [
      "WARNING:absl:Found untraced functions such as lstm_cell_54_layer_call_fn, lstm_cell_54_layer_call_and_return_conditional_losses while saving (showing 2 of 2). These functions will not be directly callable after loading.\n"
     ]
    },
    {
     "name": "stdout",
     "output_type": "stream",
     "text": [
      "INFO:tensorflow:Assets written to: /home/alexander.lunel/Private/ML/Projet_ml/src/model/models/Close_price-dataset_raw_1d-100/assets\n"
     ]
    },
    {
     "name": "stderr",
     "output_type": "stream",
     "text": [
      "INFO:tensorflow:Assets written to: /home/alexander.lunel/Private/ML/Projet_ml/src/model/models/Close_price-dataset_raw_1d-100/assets\n"
     ]
    },
    {
     "name": "stdout",
     "output_type": "stream",
     "text": [
      "13/13 [==============================] - 5s 437ms/step - loss: 7.5054e-04 - root_mean_squared_error: 0.0274 - val_loss: 0.0023 - val_root_mean_squared_error: 0.0483\n",
      "Epoch 20/100\n",
      "13/13 [==============================] - 0s 14ms/step - loss: 8.4483e-04 - root_mean_squared_error: 0.0291 - val_loss: 0.0030 - val_root_mean_squared_error: 0.0551\n",
      "Epoch 21/100\n",
      "13/13 [==============================] - 0s 14ms/step - loss: 7.8169e-04 - root_mean_squared_error: 0.0280 - val_loss: 0.0047 - val_root_mean_squared_error: 0.0687\n",
      "Epoch 22/100\n",
      "13/13 [==============================] - 0s 14ms/step - loss: 8.4932e-04 - root_mean_squared_error: 0.0291 - val_loss: 0.0034 - val_root_mean_squared_error: 0.0583\n",
      "Epoch 23/100\n",
      "13/13 [==============================] - 0s 15ms/step - loss: 8.2917e-04 - root_mean_squared_error: 0.0288 - val_loss: 0.0028 - val_root_mean_squared_error: 0.0526\n",
      "Epoch 24/100\n",
      "11/13 [========================>.....] - ETA: 0s - loss: 7.3084e-04 - root_mean_squared_error: 0.0270"
     ]
    },
    {
     "name": "stderr",
     "output_type": "stream",
     "text": [
      "WARNING:absl:Found untraced functions such as lstm_cell_54_layer_call_fn, lstm_cell_54_layer_call_and_return_conditional_losses while saving (showing 2 of 2). These functions will not be directly callable after loading.\n"
     ]
    },
    {
     "name": "stdout",
     "output_type": "stream",
     "text": [
      "INFO:tensorflow:Assets written to: /home/alexander.lunel/Private/ML/Projet_ml/src/model/models/Close_price-dataset_raw_1d-100/assets\n"
     ]
    },
    {
     "name": "stderr",
     "output_type": "stream",
     "text": [
      "INFO:tensorflow:Assets written to: /home/alexander.lunel/Private/ML/Projet_ml/src/model/models/Close_price-dataset_raw_1d-100/assets\n"
     ]
    },
    {
     "name": "stdout",
     "output_type": "stream",
     "text": [
      "13/13 [==============================] - 5s 445ms/step - loss: 7.2750e-04 - root_mean_squared_error: 0.0270 - val_loss: 0.0036 - val_root_mean_squared_error: 0.0603\n",
      "Epoch 25/100\n",
      "13/13 [==============================] - ETA: 0s - loss: 7.0608e-04 - root_mean_squared_error: 0.0266"
     ]
    },
    {
     "name": "stderr",
     "output_type": "stream",
     "text": [
      "WARNING:absl:Found untraced functions such as lstm_cell_54_layer_call_fn, lstm_cell_54_layer_call_and_return_conditional_losses while saving (showing 2 of 2). These functions will not be directly callable after loading.\n"
     ]
    },
    {
     "name": "stdout",
     "output_type": "stream",
     "text": [
      "INFO:tensorflow:Assets written to: /home/alexander.lunel/Private/ML/Projet_ml/src/model/models/Close_price-dataset_raw_1d-100/assets\n"
     ]
    },
    {
     "name": "stderr",
     "output_type": "stream",
     "text": [
      "INFO:tensorflow:Assets written to: /home/alexander.lunel/Private/ML/Projet_ml/src/model/models/Close_price-dataset_raw_1d-100/assets\n"
     ]
    },
    {
     "name": "stdout",
     "output_type": "stream",
     "text": [
      "13/13 [==============================] - 7s 546ms/step - loss: 7.0608e-04 - root_mean_squared_error: 0.0266 - val_loss: 0.0022 - val_root_mean_squared_error: 0.0470\n",
      "Epoch 26/100\n",
      "13/13 [==============================] - 0s 16ms/step - loss: 8.0849e-04 - root_mean_squared_error: 0.0284 - val_loss: 0.0025 - val_root_mean_squared_error: 0.0504\n",
      "Epoch 27/100\n",
      "13/13 [==============================] - 0s 14ms/step - loss: 7.2429e-04 - root_mean_squared_error: 0.0269 - val_loss: 0.0031 - val_root_mean_squared_error: 0.0555\n",
      "Epoch 28/100\n",
      "13/13 [==============================] - 0s 14ms/step - loss: 7.8286e-04 - root_mean_squared_error: 0.0280 - val_loss: 0.0045 - val_root_mean_squared_error: 0.0673\n",
      "Epoch 29/100\n",
      "13/13 [==============================] - 0s 15ms/step - loss: 7.7416e-04 - root_mean_squared_error: 0.0278 - val_loss: 0.0055 - val_root_mean_squared_error: 0.0740\n",
      "Epoch 30/100\n",
      "13/13 [==============================] - 0s 17ms/step - loss: 7.9842e-04 - root_mean_squared_error: 0.0283 - val_loss: 0.0029 - val_root_mean_squared_error: 0.0535\n",
      "Epoch 31/100\n",
      "13/13 [==============================] - 0s 14ms/step - loss: 8.0790e-04 - root_mean_squared_error: 0.0284 - val_loss: 0.0029 - val_root_mean_squared_error: 0.0537\n",
      "Epoch 32/100\n",
      "13/13 [==============================] - ETA: 0s - loss: 6.9651e-04 - root_mean_squared_error: 0.0264"
     ]
    },
    {
     "name": "stderr",
     "output_type": "stream",
     "text": [
      "WARNING:absl:Found untraced functions such as lstm_cell_54_layer_call_fn, lstm_cell_54_layer_call_and_return_conditional_losses while saving (showing 2 of 2). These functions will not be directly callable after loading.\n"
     ]
    },
    {
     "name": "stdout",
     "output_type": "stream",
     "text": [
      "INFO:tensorflow:Assets written to: /home/alexander.lunel/Private/ML/Projet_ml/src/model/models/Close_price-dataset_raw_1d-100/assets\n"
     ]
    },
    {
     "name": "stderr",
     "output_type": "stream",
     "text": [
      "INFO:tensorflow:Assets written to: /home/alexander.lunel/Private/ML/Projet_ml/src/model/models/Close_price-dataset_raw_1d-100/assets\n"
     ]
    },
    {
     "name": "stdout",
     "output_type": "stream",
     "text": [
      "13/13 [==============================] - 5s 422ms/step - loss: 6.9651e-04 - root_mean_squared_error: 0.0264 - val_loss: 0.0037 - val_root_mean_squared_error: 0.0606\n",
      "Epoch 33/100\n",
      "13/13 [==============================] - 0s 14ms/step - loss: 7.1006e-04 - root_mean_squared_error: 0.0266 - val_loss: 0.0048 - val_root_mean_squared_error: 0.0692\n",
      "Epoch 34/100\n",
      "13/13 [==============================] - 0s 13ms/step - loss: 7.3150e-04 - root_mean_squared_error: 0.0270 - val_loss: 0.0040 - val_root_mean_squared_error: 0.0634\n",
      "Epoch 35/100\n",
      "13/13 [==============================] - ETA: 0s - loss: 6.6127e-04 - root_mean_squared_error: 0.0257"
     ]
    },
    {
     "name": "stderr",
     "output_type": "stream",
     "text": [
      "WARNING:absl:Found untraced functions such as lstm_cell_54_layer_call_fn, lstm_cell_54_layer_call_and_return_conditional_losses while saving (showing 2 of 2). These functions will not be directly callable after loading.\n"
     ]
    },
    {
     "name": "stdout",
     "output_type": "stream",
     "text": [
      "INFO:tensorflow:Assets written to: /home/alexander.lunel/Private/ML/Projet_ml/src/model/models/Close_price-dataset_raw_1d-100/assets\n"
     ]
    },
    {
     "name": "stderr",
     "output_type": "stream",
     "text": [
      "INFO:tensorflow:Assets written to: /home/alexander.lunel/Private/ML/Projet_ml/src/model/models/Close_price-dataset_raw_1d-100/assets\n"
     ]
    },
    {
     "name": "stdout",
     "output_type": "stream",
     "text": [
      "13/13 [==============================] - 5s 411ms/step - loss: 6.6127e-04 - root_mean_squared_error: 0.0257 - val_loss: 0.0045 - val_root_mean_squared_error: 0.0673\n",
      "Epoch 36/100\n",
      "13/13 [==============================] - 0s 14ms/step - loss: 7.2474e-04 - root_mean_squared_error: 0.0269 - val_loss: 0.0028 - val_root_mean_squared_error: 0.0524\n",
      "Epoch 37/100\n",
      "12/13 [==========================>...] - ETA: 0s - loss: 6.5227e-04 - root_mean_squared_error: 0.0255"
     ]
    },
    {
     "name": "stderr",
     "output_type": "stream",
     "text": [
      "WARNING:absl:Found untraced functions such as lstm_cell_54_layer_call_fn, lstm_cell_54_layer_call_and_return_conditional_losses while saving (showing 2 of 2). These functions will not be directly callable after loading.\n"
     ]
    },
    {
     "name": "stdout",
     "output_type": "stream",
     "text": [
      "INFO:tensorflow:Assets written to: /home/alexander.lunel/Private/ML/Projet_ml/src/model/models/Close_price-dataset_raw_1d-100/assets\n"
     ]
    },
    {
     "name": "stderr",
     "output_type": "stream",
     "text": [
      "INFO:tensorflow:Assets written to: /home/alexander.lunel/Private/ML/Projet_ml/src/model/models/Close_price-dataset_raw_1d-100/assets\n"
     ]
    },
    {
     "name": "stdout",
     "output_type": "stream",
     "text": [
      "13/13 [==============================] - 6s 505ms/step - loss: 6.4031e-04 - root_mean_squared_error: 0.0253 - val_loss: 0.0034 - val_root_mean_squared_error: 0.0581\n",
      "Epoch 38/100\n",
      "11/13 [========================>.....] - ETA: 0s - loss: 6.1066e-04 - root_mean_squared_error: 0.0247"
     ]
    },
    {
     "name": "stderr",
     "output_type": "stream",
     "text": [
      "WARNING:absl:Found untraced functions such as lstm_cell_54_layer_call_fn, lstm_cell_54_layer_call_and_return_conditional_losses while saving (showing 2 of 2). These functions will not be directly callable after loading.\n"
     ]
    },
    {
     "name": "stdout",
     "output_type": "stream",
     "text": [
      "INFO:tensorflow:Assets written to: /home/alexander.lunel/Private/ML/Projet_ml/src/model/models/Close_price-dataset_raw_1d-100/assets\n"
     ]
    },
    {
     "name": "stderr",
     "output_type": "stream",
     "text": [
      "INFO:tensorflow:Assets written to: /home/alexander.lunel/Private/ML/Projet_ml/src/model/models/Close_price-dataset_raw_1d-100/assets\n"
     ]
    },
    {
     "name": "stdout",
     "output_type": "stream",
     "text": [
      "13/13 [==============================] - 5s 417ms/step - loss: 6.3392e-04 - root_mean_squared_error: 0.0252 - val_loss: 0.0031 - val_root_mean_squared_error: 0.0559\n",
      "Epoch 39/100\n",
      "12/13 [==========================>...] - ETA: 0s - loss: 6.3211e-04 - root_mean_squared_error: 0.0251"
     ]
    },
    {
     "name": "stderr",
     "output_type": "stream",
     "text": [
      "WARNING:absl:Found untraced functions such as lstm_cell_54_layer_call_fn, lstm_cell_54_layer_call_and_return_conditional_losses while saving (showing 2 of 2). These functions will not be directly callable after loading.\n"
     ]
    },
    {
     "name": "stdout",
     "output_type": "stream",
     "text": [
      "INFO:tensorflow:Assets written to: /home/alexander.lunel/Private/ML/Projet_ml/src/model/models/Close_price-dataset_raw_1d-100/assets\n"
     ]
    },
    {
     "name": "stderr",
     "output_type": "stream",
     "text": [
      "INFO:tensorflow:Assets written to: /home/alexander.lunel/Private/ML/Projet_ml/src/model/models/Close_price-dataset_raw_1d-100/assets\n"
     ]
    },
    {
     "name": "stdout",
     "output_type": "stream",
     "text": [
      "13/13 [==============================] - 6s 484ms/step - loss: 6.2225e-04 - root_mean_squared_error: 0.0249 - val_loss: 0.0028 - val_root_mean_squared_error: 0.0528\n",
      "Epoch 40/100\n",
      "13/13 [==============================] - 0s 15ms/step - loss: 6.3936e-04 - root_mean_squared_error: 0.0253 - val_loss: 0.0031 - val_root_mean_squared_error: 0.0558\n",
      "Epoch 41/100\n",
      "13/13 [==============================] - 0s 14ms/step - loss: 6.4634e-04 - root_mean_squared_error: 0.0254 - val_loss: 0.0038 - val_root_mean_squared_error: 0.0613\n",
      "Epoch 42/100\n",
      "13/13 [==============================] - 0s 15ms/step - loss: 6.5330e-04 - root_mean_squared_error: 0.0256 - val_loss: 0.0033 - val_root_mean_squared_error: 0.0572\n",
      "Epoch 43/100\n",
      "13/13 [==============================] - ETA: 0s - loss: 5.9041e-04 - root_mean_squared_error: 0.0243"
     ]
    },
    {
     "name": "stderr",
     "output_type": "stream",
     "text": [
      "WARNING:absl:Found untraced functions such as lstm_cell_54_layer_call_fn, lstm_cell_54_layer_call_and_return_conditional_losses while saving (showing 2 of 2). These functions will not be directly callable after loading.\n"
     ]
    },
    {
     "name": "stdout",
     "output_type": "stream",
     "text": [
      "INFO:tensorflow:Assets written to: /home/alexander.lunel/Private/ML/Projet_ml/src/model/models/Close_price-dataset_raw_1d-100/assets\n"
     ]
    },
    {
     "name": "stderr",
     "output_type": "stream",
     "text": [
      "INFO:tensorflow:Assets written to: /home/alexander.lunel/Private/ML/Projet_ml/src/model/models/Close_price-dataset_raw_1d-100/assets\n"
     ]
    },
    {
     "name": "stdout",
     "output_type": "stream",
     "text": [
      "13/13 [==============================] - 5s 446ms/step - loss: 5.9041e-04 - root_mean_squared_error: 0.0243 - val_loss: 0.0042 - val_root_mean_squared_error: 0.0649\n",
      "Epoch 44/100\n",
      "13/13 [==============================] - ETA: 0s - loss: 5.7978e-04 - root_mean_squared_error: 0.0241"
     ]
    },
    {
     "name": "stderr",
     "output_type": "stream",
     "text": [
      "WARNING:absl:Found untraced functions such as lstm_cell_54_layer_call_fn, lstm_cell_54_layer_call_and_return_conditional_losses while saving (showing 2 of 2). These functions will not be directly callable after loading.\n"
     ]
    },
    {
     "name": "stdout",
     "output_type": "stream",
     "text": [
      "INFO:tensorflow:Assets written to: /home/alexander.lunel/Private/ML/Projet_ml/src/model/models/Close_price-dataset_raw_1d-100/assets\n"
     ]
    },
    {
     "name": "stderr",
     "output_type": "stream",
     "text": [
      "INFO:tensorflow:Assets written to: /home/alexander.lunel/Private/ML/Projet_ml/src/model/models/Close_price-dataset_raw_1d-100/assets\n"
     ]
    },
    {
     "name": "stdout",
     "output_type": "stream",
     "text": [
      "13/13 [==============================] - 5s 429ms/step - loss: 5.7978e-04 - root_mean_squared_error: 0.0241 - val_loss: 0.0029 - val_root_mean_squared_error: 0.0541\n",
      "Epoch 45/100\n",
      "12/13 [==========================>...] - ETA: 0s - loss: 5.7893e-04 - root_mean_squared_error: 0.0241"
     ]
    },
    {
     "name": "stderr",
     "output_type": "stream",
     "text": [
      "WARNING:absl:Found untraced functions such as lstm_cell_54_layer_call_fn, lstm_cell_54_layer_call_and_return_conditional_losses while saving (showing 2 of 2). These functions will not be directly callable after loading.\n"
     ]
    },
    {
     "name": "stdout",
     "output_type": "stream",
     "text": [
      "INFO:tensorflow:Assets written to: /home/alexander.lunel/Private/ML/Projet_ml/src/model/models/Close_price-dataset_raw_1d-100/assets\n"
     ]
    },
    {
     "name": "stderr",
     "output_type": "stream",
     "text": [
      "INFO:tensorflow:Assets written to: /home/alexander.lunel/Private/ML/Projet_ml/src/model/models/Close_price-dataset_raw_1d-100/assets\n"
     ]
    },
    {
     "name": "stdout",
     "output_type": "stream",
     "text": [
      "13/13 [==============================] - 7s 585ms/step - loss: 5.7444e-04 - root_mean_squared_error: 0.0240 - val_loss: 0.0022 - val_root_mean_squared_error: 0.0471\n",
      "Epoch 46/100\n",
      "12/13 [==========================>...] - ETA: 0s - loss: 5.7894e-04 - root_mean_squared_error: 0.0241"
     ]
    },
    {
     "name": "stderr",
     "output_type": "stream",
     "text": [
      "WARNING:absl:Found untraced functions such as lstm_cell_54_layer_call_fn, lstm_cell_54_layer_call_and_return_conditional_losses while saving (showing 2 of 2). These functions will not be directly callable after loading.\n"
     ]
    },
    {
     "name": "stdout",
     "output_type": "stream",
     "text": [
      "INFO:tensorflow:Assets written to: /home/alexander.lunel/Private/ML/Projet_ml/src/model/models/Close_price-dataset_raw_1d-100/assets\n"
     ]
    },
    {
     "name": "stderr",
     "output_type": "stream",
     "text": [
      "INFO:tensorflow:Assets written to: /home/alexander.lunel/Private/ML/Projet_ml/src/model/models/Close_price-dataset_raw_1d-100/assets\n"
     ]
    },
    {
     "name": "stdout",
     "output_type": "stream",
     "text": [
      "13/13 [==============================] - 5s 439ms/step - loss: 5.7361e-04 - root_mean_squared_error: 0.0240 - val_loss: 0.0031 - val_root_mean_squared_error: 0.0560\n",
      "Epoch 47/100\n",
      "11/13 [========================>.....] - ETA: 0s - loss: 5.5786e-04 - root_mean_squared_error: 0.0236"
     ]
    },
    {
     "name": "stderr",
     "output_type": "stream",
     "text": [
      "WARNING:absl:Found untraced functions such as lstm_cell_54_layer_call_fn, lstm_cell_54_layer_call_and_return_conditional_losses while saving (showing 2 of 2). These functions will not be directly callable after loading.\n"
     ]
    },
    {
     "name": "stdout",
     "output_type": "stream",
     "text": [
      "INFO:tensorflow:Assets written to: /home/alexander.lunel/Private/ML/Projet_ml/src/model/models/Close_price-dataset_raw_1d-100/assets\n"
     ]
    },
    {
     "name": "stderr",
     "output_type": "stream",
     "text": [
      "INFO:tensorflow:Assets written to: /home/alexander.lunel/Private/ML/Projet_ml/src/model/models/Close_price-dataset_raw_1d-100/assets\n"
     ]
    },
    {
     "name": "stdout",
     "output_type": "stream",
     "text": [
      "13/13 [==============================] - 5s 439ms/step - loss: 5.5912e-04 - root_mean_squared_error: 0.0236 - val_loss: 0.0022 - val_root_mean_squared_error: 0.0466\n",
      "Epoch 48/100\n",
      "13/13 [==============================] - 0s 13ms/step - loss: 5.6477e-04 - root_mean_squared_error: 0.0238 - val_loss: 0.0023 - val_root_mean_squared_error: 0.0483\n",
      "Epoch 49/100\n",
      "11/13 [========================>.....] - ETA: 0s - loss: 5.3348e-04 - root_mean_squared_error: 0.0231"
     ]
    },
    {
     "name": "stderr",
     "output_type": "stream",
     "text": [
      "WARNING:absl:Found untraced functions such as lstm_cell_54_layer_call_fn, lstm_cell_54_layer_call_and_return_conditional_losses while saving (showing 2 of 2). These functions will not be directly callable after loading.\n"
     ]
    },
    {
     "name": "stdout",
     "output_type": "stream",
     "text": [
      "INFO:tensorflow:Assets written to: /home/alexander.lunel/Private/ML/Projet_ml/src/model/models/Close_price-dataset_raw_1d-100/assets\n"
     ]
    },
    {
     "name": "stderr",
     "output_type": "stream",
     "text": [
      "INFO:tensorflow:Assets written to: /home/alexander.lunel/Private/ML/Projet_ml/src/model/models/Close_price-dataset_raw_1d-100/assets\n"
     ]
    },
    {
     "name": "stdout",
     "output_type": "stream",
     "text": [
      "13/13 [==============================] - 7s 569ms/step - loss: 5.3442e-04 - root_mean_squared_error: 0.0231 - val_loss: 0.0022 - val_root_mean_squared_error: 0.0464\n",
      "Epoch 50/100\n",
      "13/13 [==============================] - 0s 14ms/step - loss: 5.9251e-04 - root_mean_squared_error: 0.0243 - val_loss: 0.0040 - val_root_mean_squared_error: 0.0635\n",
      "Epoch 51/100\n",
      "13/13 [==============================] - 0s 14ms/step - loss: 6.2447e-04 - root_mean_squared_error: 0.0250 - val_loss: 0.0024 - val_root_mean_squared_error: 0.0493\n",
      "Epoch 52/100\n",
      "13/13 [==============================] - 0s 14ms/step - loss: 5.7751e-04 - root_mean_squared_error: 0.0240 - val_loss: 0.0042 - val_root_mean_squared_error: 0.0646\n",
      "Epoch 53/100\n",
      "13/13 [==============================] - 0s 14ms/step - loss: 5.5625e-04 - root_mean_squared_error: 0.0236 - val_loss: 0.0022 - val_root_mean_squared_error: 0.0473\n",
      "Epoch 54/100\n",
      "12/13 [==========================>...] - ETA: 0s - loss: 4.8749e-04 - root_mean_squared_error: 0.0221"
     ]
    },
    {
     "name": "stderr",
     "output_type": "stream",
     "text": [
      "WARNING:absl:Found untraced functions such as lstm_cell_54_layer_call_fn, lstm_cell_54_layer_call_and_return_conditional_losses while saving (showing 2 of 2). These functions will not be directly callable after loading.\n"
     ]
    },
    {
     "name": "stdout",
     "output_type": "stream",
     "text": [
      "INFO:tensorflow:Assets written to: /home/alexander.lunel/Private/ML/Projet_ml/src/model/models/Close_price-dataset_raw_1d-100/assets\n"
     ]
    },
    {
     "name": "stderr",
     "output_type": "stream",
     "text": [
      "INFO:tensorflow:Assets written to: /home/alexander.lunel/Private/ML/Projet_ml/src/model/models/Close_price-dataset_raw_1d-100/assets\n"
     ]
    },
    {
     "name": "stdout",
     "output_type": "stream",
     "text": [
      "13/13 [==============================] - 6s 464ms/step - loss: 4.8986e-04 - root_mean_squared_error: 0.0221 - val_loss: 0.0025 - val_root_mean_squared_error: 0.0498\n",
      "Epoch 55/100\n",
      "13/13 [==============================] - ETA: 0s - loss: 4.8628e-04 - root_mean_squared_error: 0.0221"
     ]
    },
    {
     "name": "stderr",
     "output_type": "stream",
     "text": [
      "WARNING:absl:Found untraced functions such as lstm_cell_54_layer_call_fn, lstm_cell_54_layer_call_and_return_conditional_losses while saving (showing 2 of 2). These functions will not be directly callable after loading.\n"
     ]
    },
    {
     "name": "stdout",
     "output_type": "stream",
     "text": [
      "INFO:tensorflow:Assets written to: /home/alexander.lunel/Private/ML/Projet_ml/src/model/models/Close_price-dataset_raw_1d-100/assets\n"
     ]
    },
    {
     "name": "stderr",
     "output_type": "stream",
     "text": [
      "INFO:tensorflow:Assets written to: /home/alexander.lunel/Private/ML/Projet_ml/src/model/models/Close_price-dataset_raw_1d-100/assets\n"
     ]
    },
    {
     "name": "stdout",
     "output_type": "stream",
     "text": [
      "13/13 [==============================] - 6s 459ms/step - loss: 4.8628e-04 - root_mean_squared_error: 0.0221 - val_loss: 0.0023 - val_root_mean_squared_error: 0.0481\n",
      "Epoch 56/100\n",
      "12/13 [==========================>...] - ETA: 0s - loss: 4.5033e-04 - root_mean_squared_error: 0.0212"
     ]
    },
    {
     "name": "stderr",
     "output_type": "stream",
     "text": [
      "WARNING:absl:Found untraced functions such as lstm_cell_54_layer_call_fn, lstm_cell_54_layer_call_and_return_conditional_losses while saving (showing 2 of 2). These functions will not be directly callable after loading.\n"
     ]
    },
    {
     "name": "stdout",
     "output_type": "stream",
     "text": [
      "INFO:tensorflow:Assets written to: /home/alexander.lunel/Private/ML/Projet_ml/src/model/models/Close_price-dataset_raw_1d-100/assets\n"
     ]
    },
    {
     "name": "stderr",
     "output_type": "stream",
     "text": [
      "INFO:tensorflow:Assets written to: /home/alexander.lunel/Private/ML/Projet_ml/src/model/models/Close_price-dataset_raw_1d-100/assets\n"
     ]
    },
    {
     "name": "stdout",
     "output_type": "stream",
     "text": [
      "13/13 [==============================] - 7s 545ms/step - loss: 4.6790e-04 - root_mean_squared_error: 0.0216 - val_loss: 0.0041 - val_root_mean_squared_error: 0.0638\n",
      "Epoch 57/100\n",
      "13/13 [==============================] - 0s 14ms/step - loss: 5.9416e-04 - root_mean_squared_error: 0.0244 - val_loss: 0.0025 - val_root_mean_squared_error: 0.0503\n",
      "Epoch 58/100\n",
      "13/13 [==============================] - 0s 15ms/step - loss: 5.3309e-04 - root_mean_squared_error: 0.0231 - val_loss: 0.0035 - val_root_mean_squared_error: 0.0592\n",
      "Epoch 59/100\n",
      "13/13 [==============================] - 0s 14ms/step - loss: 5.5288e-04 - root_mean_squared_error: 0.0235 - val_loss: 0.0023 - val_root_mean_squared_error: 0.0475\n",
      "Epoch 60/100\n",
      "13/13 [==============================] - 0s 14ms/step - loss: 4.9403e-04 - root_mean_squared_error: 0.0222 - val_loss: 0.0021 - val_root_mean_squared_error: 0.0454\n",
      "Epoch 61/100\n",
      "13/13 [==============================] - 0s 13ms/step - loss: 4.9509e-04 - root_mean_squared_error: 0.0223 - val_loss: 0.0030 - val_root_mean_squared_error: 0.0545\n",
      "Epoch 62/100\n",
      "12/13 [==========================>...] - ETA: 0s - loss: 4.6151e-04 - root_mean_squared_error: 0.0215"
     ]
    },
    {
     "name": "stderr",
     "output_type": "stream",
     "text": [
      "WARNING:absl:Found untraced functions such as lstm_cell_54_layer_call_fn, lstm_cell_54_layer_call_and_return_conditional_losses while saving (showing 2 of 2). These functions will not be directly callable after loading.\n"
     ]
    },
    {
     "name": "stdout",
     "output_type": "stream",
     "text": [
      "INFO:tensorflow:Assets written to: /home/alexander.lunel/Private/ML/Projet_ml/src/model/models/Close_price-dataset_raw_1d-100/assets\n"
     ]
    },
    {
     "name": "stderr",
     "output_type": "stream",
     "text": [
      "INFO:tensorflow:Assets written to: /home/alexander.lunel/Private/ML/Projet_ml/src/model/models/Close_price-dataset_raw_1d-100/assets\n"
     ]
    },
    {
     "name": "stdout",
     "output_type": "stream",
     "text": [
      "13/13 [==============================] - 5s 428ms/step - loss: 4.5245e-04 - root_mean_squared_error: 0.0213 - val_loss: 0.0023 - val_root_mean_squared_error: 0.0483\n",
      "Epoch 63/100\n",
      "13/13 [==============================] - 0s 14ms/step - loss: 4.7211e-04 - root_mean_squared_error: 0.0217 - val_loss: 0.0019 - val_root_mean_squared_error: 0.0437\n",
      "Epoch 64/100\n",
      "13/13 [==============================] - 0s 15ms/step - loss: 5.3393e-04 - root_mean_squared_error: 0.0231 - val_loss: 0.0032 - val_root_mean_squared_error: 0.0567\n",
      "Epoch 65/100\n",
      "13/13 [==============================] - 0s 14ms/step - loss: 6.2115e-04 - root_mean_squared_error: 0.0249 - val_loss: 0.0040 - val_root_mean_squared_error: 0.0635\n",
      "Epoch 66/100\n",
      "13/13 [==============================] - 0s 15ms/step - loss: 5.9608e-04 - root_mean_squared_error: 0.0244 - val_loss: 0.0027 - val_root_mean_squared_error: 0.0522\n",
      "Epoch 67/100\n",
      "13/13 [==============================] - 0s 15ms/step - loss: 7.0663e-04 - root_mean_squared_error: 0.0266 - val_loss: 0.0047 - val_root_mean_squared_error: 0.0684\n",
      "Epoch 68/100\n",
      "13/13 [==============================] - 0s 13ms/step - loss: 5.6788e-04 - root_mean_squared_error: 0.0238 - val_loss: 0.0024 - val_root_mean_squared_error: 0.0486\n",
      "Epoch 69/100\n",
      "13/13 [==============================] - 0s 14ms/step - loss: 5.9268e-04 - root_mean_squared_error: 0.0243 - val_loss: 0.0038 - val_root_mean_squared_error: 0.0616\n",
      "Epoch 70/100\n",
      "13/13 [==============================] - 0s 14ms/step - loss: 5.3050e-04 - root_mean_squared_error: 0.0230 - val_loss: 0.0024 - val_root_mean_squared_error: 0.0491\n",
      "Epoch 71/100\n",
      "13/13 [==============================] - 0s 15ms/step - loss: 4.9089e-04 - root_mean_squared_error: 0.0222 - val_loss: 0.0020 - val_root_mean_squared_error: 0.0451\n",
      "Epoch 72/100\n",
      "13/13 [==============================] - 0s 15ms/step - loss: 4.6831e-04 - root_mean_squared_error: 0.0216 - val_loss: 0.0020 - val_root_mean_squared_error: 0.0450\n",
      "Epoch 73/100\n",
      "13/13 [==============================] - 0s 13ms/step - loss: 4.6897e-04 - root_mean_squared_error: 0.0217 - val_loss: 0.0021 - val_root_mean_squared_error: 0.0461\n",
      "Epoch 74/100\n",
      "13/13 [==============================] - 0s 14ms/step - loss: 5.1324e-04 - root_mean_squared_error: 0.0227 - val_loss: 0.0018 - val_root_mean_squared_error: 0.0424\n",
      "Epoch 75/100\n",
      "13/13 [==============================] - 0s 13ms/step - loss: 5.3562e-04 - root_mean_squared_error: 0.0231 - val_loss: 0.0024 - val_root_mean_squared_error: 0.0488\n",
      "Epoch 76/100\n",
      "13/13 [==============================] - 0s 14ms/step - loss: 5.0830e-04 - root_mean_squared_error: 0.0225 - val_loss: 0.0023 - val_root_mean_squared_error: 0.0478\n",
      "Epoch 77/100\n",
      "13/13 [==============================] - ETA: 0s - loss: 4.2593e-04 - root_mean_squared_error: 0.0206"
     ]
    },
    {
     "name": "stderr",
     "output_type": "stream",
     "text": [
      "WARNING:absl:Found untraced functions such as lstm_cell_54_layer_call_fn, lstm_cell_54_layer_call_and_return_conditional_losses while saving (showing 2 of 2). These functions will not be directly callable after loading.\n"
     ]
    },
    {
     "name": "stdout",
     "output_type": "stream",
     "text": [
      "INFO:tensorflow:Assets written to: /home/alexander.lunel/Private/ML/Projet_ml/src/model/models/Close_price-dataset_raw_1d-100/assets\n"
     ]
    },
    {
     "name": "stderr",
     "output_type": "stream",
     "text": [
      "INFO:tensorflow:Assets written to: /home/alexander.lunel/Private/ML/Projet_ml/src/model/models/Close_price-dataset_raw_1d-100/assets\n"
     ]
    },
    {
     "name": "stdout",
     "output_type": "stream",
     "text": [
      "13/13 [==============================] - 5s 445ms/step - loss: 4.2593e-04 - root_mean_squared_error: 0.0206 - val_loss: 0.0021 - val_root_mean_squared_error: 0.0459\n",
      "Epoch 78/100\n",
      "13/13 [==============================] - 0s 14ms/step - loss: 4.6375e-04 - root_mean_squared_error: 0.0215 - val_loss: 0.0026 - val_root_mean_squared_error: 0.0508\n",
      "Epoch 79/100\n",
      "13/13 [==============================] - 0s 15ms/step - loss: 4.3716e-04 - root_mean_squared_error: 0.0209 - val_loss: 0.0023 - val_root_mean_squared_error: 0.0479\n",
      "Epoch 80/100\n",
      "13/13 [==============================] - 0s 14ms/step - loss: 4.2713e-04 - root_mean_squared_error: 0.0207 - val_loss: 0.0018 - val_root_mean_squared_error: 0.0430\n",
      "Epoch 81/100\n",
      "13/13 [==============================] - ETA: 0s - loss: 4.2159e-04 - root_mean_squared_error: 0.0205"
     ]
    },
    {
     "name": "stderr",
     "output_type": "stream",
     "text": [
      "WARNING:absl:Found untraced functions such as lstm_cell_54_layer_call_fn, lstm_cell_54_layer_call_and_return_conditional_losses while saving (showing 2 of 2). These functions will not be directly callable after loading.\n"
     ]
    },
    {
     "name": "stdout",
     "output_type": "stream",
     "text": [
      "INFO:tensorflow:Assets written to: /home/alexander.lunel/Private/ML/Projet_ml/src/model/models/Close_price-dataset_raw_1d-100/assets\n"
     ]
    },
    {
     "name": "stderr",
     "output_type": "stream",
     "text": [
      "INFO:tensorflow:Assets written to: /home/alexander.lunel/Private/ML/Projet_ml/src/model/models/Close_price-dataset_raw_1d-100/assets\n"
     ]
    },
    {
     "name": "stdout",
     "output_type": "stream",
     "text": [
      "13/13 [==============================] - 6s 526ms/step - loss: 4.2159e-04 - root_mean_squared_error: 0.0205 - val_loss: 0.0018 - val_root_mean_squared_error: 0.0428\n",
      "Epoch 82/100\n",
      "13/13 [==============================] - 0s 15ms/step - loss: 4.5625e-04 - root_mean_squared_error: 0.0214 - val_loss: 0.0025 - val_root_mean_squared_error: 0.0500\n",
      "Epoch 83/100\n",
      "13/13 [==============================] - 0s 15ms/step - loss: 4.3291e-04 - root_mean_squared_error: 0.0208 - val_loss: 0.0016 - val_root_mean_squared_error: 0.0402\n",
      "Epoch 84/100\n",
      "13/13 [==============================] - 0s 15ms/step - loss: 5.8559e-04 - root_mean_squared_error: 0.0242 - val_loss: 0.0030 - val_root_mean_squared_error: 0.0550\n",
      "Epoch 85/100\n",
      "13/13 [==============================] - 0s 14ms/step - loss: 6.6148e-04 - root_mean_squared_error: 0.0257 - val_loss: 0.0026 - val_root_mean_squared_error: 0.0510\n",
      "Epoch 86/100\n",
      "13/13 [==============================] - 0s 15ms/step - loss: 5.5573e-04 - root_mean_squared_error: 0.0236 - val_loss: 0.0034 - val_root_mean_squared_error: 0.0584\n",
      "Epoch 87/100\n",
      "13/13 [==============================] - 0s 14ms/step - loss: 4.7301e-04 - root_mean_squared_error: 0.0217 - val_loss: 0.0021 - val_root_mean_squared_error: 0.0461\n",
      "Epoch 88/100\n",
      "13/13 [==============================] - 0s 14ms/step - loss: 4.2454e-04 - root_mean_squared_error: 0.0206 - val_loss: 0.0020 - val_root_mean_squared_error: 0.0447\n",
      "Epoch 89/100\n",
      "13/13 [==============================] - 0s 14ms/step - loss: 4.2735e-04 - root_mean_squared_error: 0.0207 - val_loss: 0.0021 - val_root_mean_squared_error: 0.0454\n",
      "Epoch 90/100\n",
      "12/13 [==========================>...] - ETA: 0s - loss: 4.2211e-04 - root_mean_squared_error: 0.0205"
     ]
    },
    {
     "name": "stderr",
     "output_type": "stream",
     "text": [
      "WARNING:absl:Found untraced functions such as lstm_cell_54_layer_call_fn, lstm_cell_54_layer_call_and_return_conditional_losses while saving (showing 2 of 2). These functions will not be directly callable after loading.\n"
     ]
    },
    {
     "name": "stdout",
     "output_type": "stream",
     "text": [
      "INFO:tensorflow:Assets written to: /home/alexander.lunel/Private/ML/Projet_ml/src/model/models/Close_price-dataset_raw_1d-100/assets\n"
     ]
    },
    {
     "name": "stderr",
     "output_type": "stream",
     "text": [
      "INFO:tensorflow:Assets written to: /home/alexander.lunel/Private/ML/Projet_ml/src/model/models/Close_price-dataset_raw_1d-100/assets\n"
     ]
    },
    {
     "name": "stdout",
     "output_type": "stream",
     "text": [
      "13/13 [==============================] - 5s 419ms/step - loss: 4.1939e-04 - root_mean_squared_error: 0.0205 - val_loss: 0.0018 - val_root_mean_squared_error: 0.0419\n",
      "Epoch 91/100\n",
      "13/13 [==============================] - 0s 14ms/step - loss: 4.2800e-04 - root_mean_squared_error: 0.0207 - val_loss: 0.0022 - val_root_mean_squared_error: 0.0471\n",
      "Epoch 92/100\n",
      "12/13 [==========================>...] - ETA: 0s - loss: 4.1249e-04 - root_mean_squared_error: 0.0203"
     ]
    },
    {
     "name": "stderr",
     "output_type": "stream",
     "text": [
      "WARNING:absl:Found untraced functions such as lstm_cell_54_layer_call_fn, lstm_cell_54_layer_call_and_return_conditional_losses while saving (showing 2 of 2). These functions will not be directly callable after loading.\n"
     ]
    },
    {
     "name": "stdout",
     "output_type": "stream",
     "text": [
      "INFO:tensorflow:Assets written to: /home/alexander.lunel/Private/ML/Projet_ml/src/model/models/Close_price-dataset_raw_1d-100/assets\n"
     ]
    },
    {
     "name": "stderr",
     "output_type": "stream",
     "text": [
      "INFO:tensorflow:Assets written to: /home/alexander.lunel/Private/ML/Projet_ml/src/model/models/Close_price-dataset_raw_1d-100/assets\n"
     ]
    },
    {
     "name": "stdout",
     "output_type": "stream",
     "text": [
      "13/13 [==============================] - 6s 490ms/step - loss: 4.0584e-04 - root_mean_squared_error: 0.0201 - val_loss: 0.0024 - val_root_mean_squared_error: 0.0493\n",
      "Epoch 93/100\n",
      "13/13 [==============================] - 0s 15ms/step - loss: 4.2349e-04 - root_mean_squared_error: 0.0206 - val_loss: 0.0020 - val_root_mean_squared_error: 0.0448\n",
      "Epoch 94/100\n",
      "13/13 [==============================] - 0s 14ms/step - loss: 4.1127e-04 - root_mean_squared_error: 0.0203 - val_loss: 0.0018 - val_root_mean_squared_error: 0.0420\n",
      "Epoch 95/100\n",
      "12/13 [==========================>...] - ETA: 0s - loss: 4.0547e-04 - root_mean_squared_error: 0.0201"
     ]
    },
    {
     "name": "stderr",
     "output_type": "stream",
     "text": [
      "WARNING:absl:Found untraced functions such as lstm_cell_54_layer_call_fn, lstm_cell_54_layer_call_and_return_conditional_losses while saving (showing 2 of 2). These functions will not be directly callable after loading.\n"
     ]
    },
    {
     "name": "stdout",
     "output_type": "stream",
     "text": [
      "INFO:tensorflow:Assets written to: /home/alexander.lunel/Private/ML/Projet_ml/src/model/models/Close_price-dataset_raw_1d-100/assets\n"
     ]
    },
    {
     "name": "stderr",
     "output_type": "stream",
     "text": [
      "INFO:tensorflow:Assets written to: /home/alexander.lunel/Private/ML/Projet_ml/src/model/models/Close_price-dataset_raw_1d-100/assets\n"
     ]
    },
    {
     "name": "stdout",
     "output_type": "stream",
     "text": [
      "13/13 [==============================] - 6s 511ms/step - loss: 4.0108e-04 - root_mean_squared_error: 0.0200 - val_loss: 0.0027 - val_root_mean_squared_error: 0.0520\n",
      "Epoch 96/100\n",
      "13/13 [==============================] - 0s 14ms/step - loss: 4.6029e-04 - root_mean_squared_error: 0.0215 - val_loss: 0.0016 - val_root_mean_squared_error: 0.0405\n",
      "Epoch 97/100\n",
      "13/13 [==============================] - 0s 16ms/step - loss: 4.0546e-04 - root_mean_squared_error: 0.0201 - val_loss: 0.0016 - val_root_mean_squared_error: 0.0405\n",
      "Epoch 98/100\n",
      "13/13 [==============================] - 0s 15ms/step - loss: 4.1027e-04 - root_mean_squared_error: 0.0203 - val_loss: 0.0026 - val_root_mean_squared_error: 0.0507\n",
      "Epoch 99/100\n",
      "13/13 [==============================] - 0s 14ms/step - loss: 4.2462e-04 - root_mean_squared_error: 0.0206 - val_loss: 0.0020 - val_root_mean_squared_error: 0.0444\n",
      "Epoch 100/100\n",
      "12/13 [==========================>...] - ETA: 0s - loss: 3.9113e-04 - root_mean_squared_error: 0.0198"
     ]
    },
    {
     "name": "stderr",
     "output_type": "stream",
     "text": [
      "WARNING:absl:Found untraced functions such as lstm_cell_54_layer_call_fn, lstm_cell_54_layer_call_and_return_conditional_losses while saving (showing 2 of 2). These functions will not be directly callable after loading.\n"
     ]
    },
    {
     "name": "stdout",
     "output_type": "stream",
     "text": [
      "INFO:tensorflow:Assets written to: /home/alexander.lunel/Private/ML/Projet_ml/src/model/models/Close_price-dataset_raw_1d-100/assets\n"
     ]
    },
    {
     "name": "stderr",
     "output_type": "stream",
     "text": [
      "INFO:tensorflow:Assets written to: /home/alexander.lunel/Private/ML/Projet_ml/src/model/models/Close_price-dataset_raw_1d-100/assets\n"
     ]
    },
    {
     "name": "stdout",
     "output_type": "stream",
     "text": [
      "13/13 [==============================] - 5s 437ms/step - loss: 3.9328e-04 - root_mean_squared_error: 0.0198 - val_loss: 0.0022 - val_root_mean_squared_error: 0.0468\n"
     ]
    }
   ],
   "source": [
    "N_EPOCHS = 100\n",
    "model_name = \"Close_price\"\n",
    "data_name = \"dataset_raw_1d\"\n",
    "full_model_name = model_name+'-'+data_name+'-'+str(N_EPOCHS)\n",
    "\n",
    "main_training_model(full_model_name, scaler_features, scaler_target, X_train, y_train, X_val, y_val, N_EPOCHS)"
   ]
  },
  {
   "cell_type": "markdown",
   "metadata": {},
   "source": [
    "### ANALYSE DES RÉSULTATS"
   ]
  },
  {
   "cell_type": "code",
   "execution_count": 126,
   "metadata": {},
   "outputs": [],
   "source": [
    "# Fonctions communes aux différentes modèles\n",
    "def create_directory_if_not_exists(directory_name):\n",
    "    \"\"\"\n",
    "    Crée un répertoire s'il n'existe pas déjà.\n",
    "\n",
    "    Parameters:\n",
    "    directory_name (str): Le nom du répertoire à créer.\n",
    "    \"\"\"\n",
    "    if not os.path.exists(directory_name):\n",
    "        try:\n",
    "            os.makedirs(directory_name)\n",
    "            print(f\"Répertoire '{directory_name}' créé avec succès.\")\n",
    "        except Exception as e:\n",
    "            print(f\"Erreur lors de la création du répertoire '{directory_name}': {e}\")\n",
    "    else:\n",
    "        print(f\"Le répertoire '{directory_name}' existe déjà.\")\n",
    "\n",
    "\n",
    "def load(name):\n",
    "    \"\"\"\n",
    "    \"\"\"\n",
    "    return load_model(f'{WD}/src/model/models/{name}/', custom_objects={'LSTM': LSTM})\n",
    "\n",
    "def predict(model, X):\n",
    "    \"\"\"\n",
    "    \"\"\"\n",
    "    return model.predict(X)\n",
    "\n",
    "def inverse_scaler(scaler, array):\n",
    "    \"\"\"\n",
    "    \"\"\"\n",
    "    return scaler.inverse_transform(array)\n",
    "\n",
    "def plot(df, model_name, is_train):\n",
    "    \"\"\"\n",
    "    \"\"\"\n",
    "    ticks_to_display = np.linspace(0, len(df) - 1, 5, dtype=int)  # 5 indices répartis uniformément\n",
    "    create_directory_if_not_exists(f'{WD}/figure/{model_name}')\n",
    "    plt.clf()\n",
    "    plt.plot(df['Date'], df['Actual N+1'], label='Actuals') \n",
    "    plt.plot(df['Date'], df['Predictions N+1'], label='Predictions')\n",
    "    plt.xticks(ticks_to_display, df[\"Date\"].iloc[ticks_to_display], rotation=45)\n",
    "    plt.title(f\"Comparaison Réel et Prédiction pour le jeu de {'train' if is_train==1 else 'test' if is_train==0 else 'validation'}\")\n",
    "    plt.legend()\n",
    "    plt.show()\n",
    "    plt.savefig(f\"{WD}/figure/{model_name}/COMPARAISON_{'train_' if is_train==1 else 'test_' if is_train==0 else 'val_'}prediction.png\")"
   ]
  },
  {
   "cell_type": "code",
   "execution_count": 127,
   "metadata": {},
   "outputs": [],
   "source": [
    "## Fonctions propres au modèle pour 1 seule variable Close_price en Daily\n",
    "def analyze(date, X, y, predictions):\n",
    "    \"\"\"\n",
    "    \"\"\"\n",
    "    df_analyze = pd.concat([\n",
    "                            pd.DataFrame(date), \n",
    "                            pd.DataFrame(X[:, WINDOW_SIZE-1, 0]), \n",
    "                            pd.DataFrame(y.reshape(-1)), \n",
    "                            pd.DataFrame(predictions)\n",
    "                            ], axis=1)\n",
    "\n",
    "\n",
    "\n",
    "    df_analyze.columns = ['Date', 'Actual N', 'Actual N+1', 'Predictions N+1']\n",
    "\n",
    "    df_analyze['Actual UP or DOWN'] = pd.DataFrame((df_analyze['Actual N+1'] > df_analyze['Actual N']).astype(int))\n",
    "    df_analyze['Predicted UP or DOWN'] = pd.DataFrame((df_analyze['Predictions N+1'] > df_analyze['Actual N']).astype(int))\n",
    "\n",
    "    cm = confusion_matrix(df_analyze['Actual UP or DOWN'], df_analyze['Predicted UP or DOWN'])\n",
    "    acc = cm[0][0] + cm[1][1]\n",
    "    tot = cm.sum()\n",
    "    print(f'Accuracy : {acc/tot*100}%')\n",
    "    cm_df = pd.DataFrame(cm, index=['Actual DOWN', 'Actual UP'], columns=['Predicted DOWN', 'Predicted UP'])\n",
    "    \n",
    "    return df_analyze, cm_df\n",
    "\n",
    "def analyze_for_data(model, scaler_features, scaler_target, date_train, X_train, y_train, date_test, X_test, y_test, date_val, X_val, y_val, is_train):\n",
    "\n",
    "    if is_train==1:\n",
    "        date = date_train\n",
    "        X = X_train\n",
    "        y = y_train\n",
    "    elif is_train==0:\n",
    "        date = date_test\n",
    "        X = X_test\n",
    "        y = y_test\n",
    "    else :\n",
    "        date = date_val\n",
    "        X = X_val\n",
    "        y = y_val\n",
    "\n",
    "    pred = predict(model, X)\n",
    "    X_reshape = X.reshape(X.shape[0], -1)\n",
    "    X_inv_scaled = inverse_scaler(scaler_features, X_reshape)\n",
    "    X_inv_scaled = np.array(X_inv_scaled)\n",
    "    X = X_inv_scaled.reshape(X.shape[0], X.shape[1], X.shape[2])\n",
    "    print(\"X_shape :\", X.shape)\n",
    "    #y = inverse_scaler(scaler_target, [y])\n",
    "    y = inverse_scaler(scaler_target, y)\n",
    "    print(\"y_shape :\",y.shape)\n",
    "    predictions = inverse_scaler(scaler_target, pred)\n",
    "\n",
    "    df_analyze, cm_df = analyze(date, X, y, predictions)\n",
    "    print(f\"#####{'TRAIN' if is_train==1 else 'TEST' if is_train==0 else 'VAL'}#####\\n\",df_analyze.head(15).to_string())\n",
    "    print(f'######MATRICE DE CONFUSION#######\\n {cm_df}')\n",
    "    plot(df_analyze, model.name, is_train)\n",
    "\n",
    "def main_analyze_model(is_train):\n",
    "    model_name = \"Close_price-dataset_raw_1d-100\"\n",
    "    data_name = model_name.split('-')[1]\n",
    "    loaded_model = load(model_name)\n",
    "\n",
    "    (date_train, X_train, y_train, date_val, X_val, y_val, date_test, X_test, y_test), scaler_features, scaler_target = main_pre_processing(data_name, is_one_var=True)\n",
    "\n",
    "    analyze_for_data(loaded_model, scaler_features, scaler_target, date_train, X_train, y_train, date_test, X_test, y_test, date_val, X_val, y_val, is_train)"
   ]
  },
  {
   "cell_type": "markdown",
   "metadata": {},
   "source": [
    "#### Analyse du modèle Close_price-dataset_raw_1d-100"
   ]
  },
  {
   "cell_type": "code",
   "execution_count": 128,
   "metadata": {},
   "outputs": [
    {
     "name": "stdout",
     "output_type": "stream",
     "text": [
      "13/13 [==============================] - 2s 4ms/step\n",
      "X_shape : (394, 7, 1)\n",
      "y_shape : (394, 1)\n",
      "Accuracy : 55.32994923857868%\n",
      "#####TRAIN#####\n",
      "           Date      Actual N    Actual N+1  Predictions N+1  Actual UP or DOWN  Predicted UP or DOWN\n",
      "0   2023-08-28  25971.208984  25826.019531     26025.296875                  0                     1\n",
      "1   2023-08-29  25826.019531  25792.099609     25929.513672                  0                     1\n",
      "2   2023-08-30  25792.099609  25759.949219     25958.482422                  0                     1\n",
      "3   2023-08-31  25759.949219  26255.001953     25997.339844                  1                     1\n",
      "4   2023-09-01  26255.001953  25910.500000     26149.066406                  0                     0\n",
      "5   2023-09-02  25910.500000  25901.609375     26127.628906                  0                     1\n",
      "6   2023-09-03  25901.609375  25841.609375     26106.705078                  0                     1\n",
      "7   2023-09-04  25841.609375  25162.519531     26074.306641                  0                     1\n",
      "8   2023-09-05  25162.519531  25840.099609     25858.125000                  1                     1\n",
      "9   2023-09-06  25840.099609  26222.000000     25897.888672                  1                     1\n",
      "10  2023-09-07  26222.000000  26522.730469     26063.974609                  1                     0\n",
      "11  2023-09-08  26522.730469  26600.000000     26330.232422                  1                     0\n",
      "12  2023-09-09  26600.000000  26559.671875     26552.773438                  0                     0\n",
      "13  2023-09-10  26559.671875  26527.507812     26667.246094                  0                     1\n",
      "14  2023-09-11  26527.507812  26762.509766     26703.773438                  1                     1\n",
      "######MATRICE DE CONFUSION#######\n",
      "              Predicted DOWN  Predicted UP\n",
      "Actual DOWN              95            92\n",
      "Actual UP                84           123\n",
      "Le répertoire '/home/alexander.lunel/Private/ML/Projet_ml/figure/Close_price-dataset_raw_1d-100' existe déjà.\n"
     ]
    },
    {
     "data": {
      "image/png": "[encoded data removed]",
      "text/plain": [
       "<Figure size 640x480 with 1 Axes>"
      ]
     },
     "metadata": {},
     "output_type": "display_data"
    },
    {
     "name": "stdout",
     "output_type": "stream",
     "text": [
      "2/2 [==============================] - 1s 6ms/step\n",
      "X_shape : (49, 7, 1)\n",
      "y_shape : (49, 1)\n",
      "Accuracy : 40.816326530612244%\n",
      "#####VAL#####\n",
      "           Date      Actual N    Actual N+1  Predictions N+1  Actual UP or DOWN  Predicted UP or DOWN\n",
      "0   2024-09-25  60805.781250  60649.277344     62328.250000                  0                     1\n",
      "1   2024-09-26  60649.277344  60752.710938     60931.855469                  1                     1\n",
      "2   2024-09-27  60752.710938  62086.000000     60397.722656                  1                     0\n",
      "3   2024-09-28  62086.000000  62058.000000     61012.953125                  0                     0\n",
      "4   2024-09-29  62058.000000  62819.910156     61604.578125                  1                     0\n",
      "5   2024-09-30  62819.910156  62224.000000     62482.972656                  0                     0\n",
      "6   2024-10-01  62224.000000  62160.492188     62652.738281                  0                     1\n",
      "7   2024-10-02  62160.492188  60636.019531     62538.578125                  0                     1\n",
      "8   2024-10-03  60636.019531  60326.390625     61615.820312                  0                     1\n",
      "9   2024-10-04  60326.390625  62540.000000     60848.667969                  1                     1\n",
      "10  2024-10-05  62540.000000  63206.222656     61600.542969                  1                     0\n",
      "11  2024-10-06  63206.222656  62870.019531     62477.164062                  0                     0\n",
      "12  2024-10-07  62870.019531  66083.992188     62915.250000                  1                     1\n",
      "13  2024-10-08  66083.992188  67074.140625     64745.074219                  1                     0\n",
      "14  2024-10-09  67074.140625  67620.007812     66194.195312                  1                     0\n",
      "######MATRICE DE CONFUSION#######\n",
      "              Predicted DOWN  Predicted UP\n",
      "Actual DOWN              16             6\n",
      "Actual UP                23             4\n",
      "Le répertoire '/home/alexander.lunel/Private/ML/Projet_ml/figure/Close_price-dataset_raw_1d-100' existe déjà.\n"
     ]
    },
    {
     "data": {
      "image/png": "[encoded data removed]",
      "text/plain": [
       "<Figure size 640x480 with 1 Axes>"
      ]
     },
     "metadata": {},
     "output_type": "display_data"
    },
    {
     "name": "stdout",
     "output_type": "stream",
     "text": [
      "2/2 [==============================] - 1s 6ms/step\n",
      "X_shape : (50, 7, 1)\n",
      "y_shape : (50, 1)\n",
      "Accuracy : 50.877192982456144%\n",
      "#####TEST#####\n",
      "           Date      Actual N    Actual N+1  Predictions N+1  Actual UP or DOWN  Predicted UP or DOWN\n",
      "0   2024-11-13  92310.789062  94286.554688     85869.257812                  1                     0\n",
      "1   2024-11-14  94286.554688  98317.117188     86969.781250                  1                     0\n",
      "2   2024-11-15  98317.117188  98891.992188     88894.445312                  1                     0\n",
      "3   2024-11-16  98891.992188  97672.398438     90349.617188                  0                     0\n",
      "4   2024-11-17  97672.398438  97900.031250     90748.460938                  1                     0\n",
      "5   2024-11-18  97900.031250  93010.007812     90864.515625                  0                     0\n",
      "6   2024-11-19  93010.007812  91965.164062     89174.046875                  0                     0\n",
      "7   2024-11-20  91965.164062  95863.109375     87113.164062                  1                     0\n",
      "8   2024-11-21  95863.109375  95643.976562     87801.765625                  0                     0\n",
      "9   2024-11-22  95643.976562  97459.992188     88334.273438                  1                     0\n",
      "10  2024-11-23  97459.992188  96407.984375     89274.953125                  0                     0\n",
      "11  2024-11-24  96407.984375  97185.179688     89562.960938                  1                     0\n",
      "12  2024-11-25  97185.179688  95840.617188     89987.351562                  0                     0\n",
      "13  2024-11-26  95840.617188  95849.687500     89664.257812                  1                     0\n",
      "14  2024-11-27  95849.687500  98587.320312     89345.062500                  1                     0\n",
      "######MATRICE DE CONFUSION#######\n",
      "              Predicted DOWN  Predicted UP\n",
      "Actual DOWN              29             0\n",
      "Actual UP                28             0\n",
      "Le répertoire '/home/alexander.lunel/Private/ML/Projet_ml/figure/Close_price-dataset_raw_1d-100' existe déjà.\n"
     ]
    },
    {
     "data": {
      "image/png": "[encoded data removed]",
      "text/plain": [
       "<Figure size 640x480 with 1 Axes>"
      ]
     },
     "metadata": {},
     "output_type": "display_data"
    },
    {
     "data": {
      "text/plain": [
       "<Figure size 640x480 with 0 Axes>"
      ]
     },
     "metadata": {},
     "output_type": "display_data"
    }
   ],
   "source": [
    "\"is_train : 1 pour Train, 0 pour Test , autre pour val\"\n",
    "for is_train in (1, 2, 0):\n",
    "    main_analyze_model(is_train)"
   ]
  },
  {
   "cell_type": "markdown",
   "metadata": {},
   "source": [
    "## CLOSE PRICE SEULEMENT, en 6h (6 heures)"
   ]
  },
  {
   "cell_type": "markdown",
   "metadata": {},
   "source": [
    "#### Pre processing du dataframe dataset_raw_6h"
   ]
  },
  {
   "cell_type": "code",
   "execution_count": 129,
   "metadata": {},
   "outputs": [
    {
     "name": "stdout",
     "output_type": "stream",
     "text": [
      "X_train : (1577, 28, 1)\n",
      "y_train : (1577, 1)\n",
      "X_val : (197, 28, 1)\n",
      "y_val : (197, 1)\n",
      "X_test : (198, 28, 1)\n",
      "y_test : (198, 1)\n"
     ]
    }
   ],
   "source": [
    "data_name = \"dataset_raw_6h\"\n",
    "# is_one_var = True car une seule variable\n",
    "is_one_var = True\n",
    "#On passe la window de 7 à 7*4=28 pour garder une semaine de fenêtre \n",
    "WINDOW_SIZE = 28\n",
    "\n",
    "(date_train, X_train, y_train, date_val, X_val, y_val, date_test, X_test, y_test), scaler_features, scaler_target = main_pre_processing(data_name, is_one_var)\n",
    "print(f'X_train : {X_train.shape}')\n",
    "print(f'y_train : {y_train.shape}')\n",
    "print(f'X_val : {X_val.shape}')\n",
    "print(f'y_val : {y_val.shape}')\n",
    "print(f'X_test : {X_test.shape}')\n",
    "print(f'y_test : {y_test.shape}')"
   ]
  },
  {
   "cell_type": "markdown",
   "metadata": {},
   "source": [
    "#### Training du modèle Close_price-dataset_raw_6h-100"
   ]
  },
  {
   "cell_type": "code",
   "execution_count": 130,
   "metadata": {},
   "outputs": [
    {
     "name": "stdout",
     "output_type": "stream",
     "text": [
      "Epoch 1/100\n",
      "49/50 [============================>.] - ETA: 0s - loss: 0.0260 - root_mean_squared_error: 0.1612"
     ]
    },
    {
     "name": "stderr",
     "output_type": "stream",
     "text": [
      "WARNING:absl:Found untraced functions such as lstm_cell_58_layer_call_fn, lstm_cell_58_layer_call_and_return_conditional_losses while saving (showing 2 of 2). These functions will not be directly callable after loading.\n"
     ]
    },
    {
     "name": "stdout",
     "output_type": "stream",
     "text": [
      "INFO:tensorflow:Assets written to: /home/alexander.lunel/Private/ML/Projet_ml/src/model/models/Close_price-dataset_raw_6h-100/assets\n"
     ]
    },
    {
     "name": "stderr",
     "output_type": "stream",
     "text": [
      "INFO:tensorflow:Assets written to: /home/alexander.lunel/Private/ML/Projet_ml/src/model/models/Close_price-dataset_raw_6h-100/assets\n"
     ]
    },
    {
     "name": "stdout",
     "output_type": "stream",
     "text": [
      "50/50 [==============================] - 10s 167ms/step - loss: 0.0258 - root_mean_squared_error: 0.1607 - val_loss: 0.0070 - val_root_mean_squared_error: 0.0837\n",
      "Epoch 2/100\n",
      "48/50 [===========================>..] - ETA: 0s - loss: 5.4485e-04 - root_mean_squared_error: 0.0233"
     ]
    },
    {
     "name": "stderr",
     "output_type": "stream",
     "text": [
      "WARNING:absl:Found untraced functions such as lstm_cell_58_layer_call_fn, lstm_cell_58_layer_call_and_return_conditional_losses while saving (showing 2 of 2). These functions will not be directly callable after loading.\n"
     ]
    },
    {
     "name": "stdout",
     "output_type": "stream",
     "text": [
      "INFO:tensorflow:Assets written to: /home/alexander.lunel/Private/ML/Projet_ml/src/model/models/Close_price-dataset_raw_6h-100/assets\n"
     ]
    },
    {
     "name": "stderr",
     "output_type": "stream",
     "text": [
      "INFO:tensorflow:Assets written to: /home/alexander.lunel/Private/ML/Projet_ml/src/model/models/Close_price-dataset_raw_6h-100/assets\n"
     ]
    },
    {
     "name": "stdout",
     "output_type": "stream",
     "text": [
      "50/50 [==============================] - 7s 133ms/step - loss: 5.3666e-04 - root_mean_squared_error: 0.0232 - val_loss: 0.0014 - val_root_mean_squared_error: 0.0378\n",
      "Epoch 3/100\n",
      "49/50 [============================>.] - ETA: 0s - loss: 3.2740e-04 - root_mean_squared_error: 0.0181"
     ]
    },
    {
     "name": "stderr",
     "output_type": "stream",
     "text": [
      "WARNING:absl:Found untraced functions such as lstm_cell_58_layer_call_fn, lstm_cell_58_layer_call_and_return_conditional_losses while saving (showing 2 of 2). These functions will not be directly callable after loading.\n"
     ]
    },
    {
     "name": "stdout",
     "output_type": "stream",
     "text": [
      "INFO:tensorflow:Assets written to: /home/alexander.lunel/Private/ML/Projet_ml/src/model/models/Close_price-dataset_raw_6h-100/assets\n"
     ]
    },
    {
     "name": "stderr",
     "output_type": "stream",
     "text": [
      "INFO:tensorflow:Assets written to: /home/alexander.lunel/Private/ML/Projet_ml/src/model/models/Close_price-dataset_raw_6h-100/assets\n"
     ]
    },
    {
     "name": "stdout",
     "output_type": "stream",
     "text": [
      "50/50 [==============================] - 7s 150ms/step - loss: 3.2647e-04 - root_mean_squared_error: 0.0181 - val_loss: 0.0016 - val_root_mean_squared_error: 0.0401\n",
      "Epoch 4/100\n",
      "50/50 [==============================] - ETA: 0s - loss: 3.1087e-04 - root_mean_squared_error: 0.0176"
     ]
    },
    {
     "name": "stderr",
     "output_type": "stream",
     "text": [
      "WARNING:absl:Found untraced functions such as lstm_cell_58_layer_call_fn, lstm_cell_58_layer_call_and_return_conditional_losses while saving (showing 2 of 2). These functions will not be directly callable after loading.\n"
     ]
    },
    {
     "name": "stdout",
     "output_type": "stream",
     "text": [
      "INFO:tensorflow:Assets written to: /home/alexander.lunel/Private/ML/Projet_ml/src/model/models/Close_price-dataset_raw_6h-100/assets\n"
     ]
    },
    {
     "name": "stderr",
     "output_type": "stream",
     "text": [
      "INFO:tensorflow:Assets written to: /home/alexander.lunel/Private/ML/Projet_ml/src/model/models/Close_price-dataset_raw_6h-100/assets\n"
     ]
    },
    {
     "name": "stdout",
     "output_type": "stream",
     "text": [
      "50/50 [==============================] - 7s 134ms/step - loss: 3.1087e-04 - root_mean_squared_error: 0.0176 - val_loss: 0.0016 - val_root_mean_squared_error: 0.0398\n",
      "Epoch 5/100\n",
      "48/50 [===========================>..] - ETA: 0s - loss: 2.9361e-04 - root_mean_squared_error: 0.0171"
     ]
    },
    {
     "name": "stderr",
     "output_type": "stream",
     "text": [
      "WARNING:absl:Found untraced functions such as lstm_cell_58_layer_call_fn, lstm_cell_58_layer_call_and_return_conditional_losses while saving (showing 2 of 2). These functions will not be directly callable after loading.\n"
     ]
    },
    {
     "name": "stdout",
     "output_type": "stream",
     "text": [
      "INFO:tensorflow:Assets written to: /home/alexander.lunel/Private/ML/Projet_ml/src/model/models/Close_price-dataset_raw_6h-100/assets\n"
     ]
    },
    {
     "name": "stderr",
     "output_type": "stream",
     "text": [
      "INFO:tensorflow:Assets written to: /home/alexander.lunel/Private/ML/Projet_ml/src/model/models/Close_price-dataset_raw_6h-100/assets\n"
     ]
    },
    {
     "name": "stdout",
     "output_type": "stream",
     "text": [
      "50/50 [==============================] - 7s 136ms/step - loss: 2.9162e-04 - root_mean_squared_error: 0.0171 - val_loss: 0.0012 - val_root_mean_squared_error: 0.0347\n",
      "Epoch 6/100\n",
      "49/50 [============================>.] - ETA: 0s - loss: 2.7787e-04 - root_mean_squared_error: 0.0167"
     ]
    },
    {
     "name": "stderr",
     "output_type": "stream",
     "text": [
      "WARNING:absl:Found untraced functions such as lstm_cell_58_layer_call_fn, lstm_cell_58_layer_call_and_return_conditional_losses while saving (showing 2 of 2). These functions will not be directly callable after loading.\n"
     ]
    },
    {
     "name": "stdout",
     "output_type": "stream",
     "text": [
      "INFO:tensorflow:Assets written to: /home/alexander.lunel/Private/ML/Projet_ml/src/model/models/Close_price-dataset_raw_6h-100/assets\n"
     ]
    },
    {
     "name": "stderr",
     "output_type": "stream",
     "text": [
      "INFO:tensorflow:Assets written to: /home/alexander.lunel/Private/ML/Projet_ml/src/model/models/Close_price-dataset_raw_6h-100/assets\n"
     ]
    },
    {
     "name": "stdout",
     "output_type": "stream",
     "text": [
      "50/50 [==============================] - 7s 152ms/step - loss: 2.7710e-04 - root_mean_squared_error: 0.0166 - val_loss: 0.0012 - val_root_mean_squared_error: 0.0350\n",
      "Epoch 7/100\n",
      "49/50 [============================>.] - ETA: 0s - loss: 2.6527e-04 - root_mean_squared_error: 0.0163"
     ]
    },
    {
     "name": "stderr",
     "output_type": "stream",
     "text": [
      "WARNING:absl:Found untraced functions such as lstm_cell_58_layer_call_fn, lstm_cell_58_layer_call_and_return_conditional_losses while saving (showing 2 of 2). These functions will not be directly callable after loading.\n"
     ]
    },
    {
     "name": "stdout",
     "output_type": "stream",
     "text": [
      "INFO:tensorflow:Assets written to: /home/alexander.lunel/Private/ML/Projet_ml/src/model/models/Close_price-dataset_raw_6h-100/assets\n"
     ]
    },
    {
     "name": "stderr",
     "output_type": "stream",
     "text": [
      "INFO:tensorflow:Assets written to: /home/alexander.lunel/Private/ML/Projet_ml/src/model/models/Close_price-dataset_raw_6h-100/assets\n"
     ]
    },
    {
     "name": "stdout",
     "output_type": "stream",
     "text": [
      "50/50 [==============================] - 7s 136ms/step - loss: 2.6520e-04 - root_mean_squared_error: 0.0163 - val_loss: 0.0012 - val_root_mean_squared_error: 0.0340\n",
      "Epoch 8/100\n",
      "49/50 [============================>.] - ETA: 0s - loss: 2.6036e-04 - root_mean_squared_error: 0.0161"
     ]
    },
    {
     "name": "stderr",
     "output_type": "stream",
     "text": [
      "WARNING:absl:Found untraced functions such as lstm_cell_58_layer_call_fn, lstm_cell_58_layer_call_and_return_conditional_losses while saving (showing 2 of 2). These functions will not be directly callable after loading.\n"
     ]
    },
    {
     "name": "stdout",
     "output_type": "stream",
     "text": [
      "INFO:tensorflow:Assets written to: /home/alexander.lunel/Private/ML/Projet_ml/src/model/models/Close_price-dataset_raw_6h-100/assets\n"
     ]
    },
    {
     "name": "stderr",
     "output_type": "stream",
     "text": [
      "INFO:tensorflow:Assets written to: /home/alexander.lunel/Private/ML/Projet_ml/src/model/models/Close_price-dataset_raw_6h-100/assets\n"
     ]
    },
    {
     "name": "stdout",
     "output_type": "stream",
     "text": [
      "50/50 [==============================] - 6s 130ms/step - loss: 2.5991e-04 - root_mean_squared_error: 0.0161 - val_loss: 6.1232e-04 - val_root_mean_squared_error: 0.0247\n",
      "Epoch 9/100\n",
      "50/50 [==============================] - ETA: 0s - loss: 2.5651e-04 - root_mean_squared_error: 0.0160"
     ]
    },
    {
     "name": "stderr",
     "output_type": "stream",
     "text": [
      "WARNING:absl:Found untraced functions such as lstm_cell_58_layer_call_fn, lstm_cell_58_layer_call_and_return_conditional_losses while saving (showing 2 of 2). These functions will not be directly callable after loading.\n"
     ]
    },
    {
     "name": "stdout",
     "output_type": "stream",
     "text": [
      "INFO:tensorflow:Assets written to: /home/alexander.lunel/Private/ML/Projet_ml/src/model/models/Close_price-dataset_raw_6h-100/assets\n"
     ]
    },
    {
     "name": "stderr",
     "output_type": "stream",
     "text": [
      "INFO:tensorflow:Assets written to: /home/alexander.lunel/Private/ML/Projet_ml/src/model/models/Close_price-dataset_raw_6h-100/assets\n"
     ]
    },
    {
     "name": "stdout",
     "output_type": "stream",
     "text": [
      "50/50 [==============================] - 8s 156ms/step - loss: 2.5651e-04 - root_mean_squared_error: 0.0160 - val_loss: 9.8041e-04 - val_root_mean_squared_error: 0.0313\n",
      "Epoch 10/100\n",
      "49/50 [============================>.] - ETA: 0s - loss: 2.1881e-04 - root_mean_squared_error: 0.0148"
     ]
    },
    {
     "name": "stderr",
     "output_type": "stream",
     "text": [
      "WARNING:absl:Found untraced functions such as lstm_cell_58_layer_call_fn, lstm_cell_58_layer_call_and_return_conditional_losses while saving (showing 2 of 2). These functions will not be directly callable after loading.\n"
     ]
    },
    {
     "name": "stdout",
     "output_type": "stream",
     "text": [
      "INFO:tensorflow:Assets written to: /home/alexander.lunel/Private/ML/Projet_ml/src/model/models/Close_price-dataset_raw_6h-100/assets\n"
     ]
    },
    {
     "name": "stderr",
     "output_type": "stream",
     "text": [
      "INFO:tensorflow:Assets written to: /home/alexander.lunel/Private/ML/Projet_ml/src/model/models/Close_price-dataset_raw_6h-100/assets\n"
     ]
    },
    {
     "name": "stdout",
     "output_type": "stream",
     "text": [
      "50/50 [==============================] - 6s 131ms/step - loss: 2.1822e-04 - root_mean_squared_error: 0.0148 - val_loss: 8.3811e-04 - val_root_mean_squared_error: 0.0290\n",
      "Epoch 11/100\n",
      "49/50 [============================>.] - ETA: 0s - loss: 2.0801e-04 - root_mean_squared_error: 0.0144"
     ]
    },
    {
     "name": "stderr",
     "output_type": "stream",
     "text": [
      "WARNING:absl:Found untraced functions such as lstm_cell_58_layer_call_fn, lstm_cell_58_layer_call_and_return_conditional_losses while saving (showing 2 of 2). These functions will not be directly callable after loading.\n"
     ]
    },
    {
     "name": "stdout",
     "output_type": "stream",
     "text": [
      "INFO:tensorflow:Assets written to: /home/alexander.lunel/Private/ML/Projet_ml/src/model/models/Close_price-dataset_raw_6h-100/assets\n"
     ]
    },
    {
     "name": "stderr",
     "output_type": "stream",
     "text": [
      "INFO:tensorflow:Assets written to: /home/alexander.lunel/Private/ML/Projet_ml/src/model/models/Close_price-dataset_raw_6h-100/assets\n"
     ]
    },
    {
     "name": "stdout",
     "output_type": "stream",
     "text": [
      "50/50 [==============================] - 7s 137ms/step - loss: 2.0715e-04 - root_mean_squared_error: 0.0144 - val_loss: 0.0010 - val_root_mean_squared_error: 0.0324\n",
      "Epoch 12/100\n",
      "50/50 [==============================] - 1s 29ms/step - loss: 2.4372e-04 - root_mean_squared_error: 0.0156 - val_loss: 7.1761e-04 - val_root_mean_squared_error: 0.0268\n",
      "Epoch 13/100\n",
      "50/50 [==============================] - 1s 30ms/step - loss: 2.4225e-04 - root_mean_squared_error: 0.0156 - val_loss: 6.1680e-04 - val_root_mean_squared_error: 0.0248\n",
      "Epoch 14/100\n",
      "50/50 [==============================] - ETA: 0s - loss: 1.8910e-04 - root_mean_squared_error: 0.0138"
     ]
    },
    {
     "name": "stderr",
     "output_type": "stream",
     "text": [
      "WARNING:absl:Found untraced functions such as lstm_cell_58_layer_call_fn, lstm_cell_58_layer_call_and_return_conditional_losses while saving (showing 2 of 2). These functions will not be directly callable after loading.\n"
     ]
    },
    {
     "name": "stdout",
     "output_type": "stream",
     "text": [
      "INFO:tensorflow:Assets written to: /home/alexander.lunel/Private/ML/Projet_ml/src/model/models/Close_price-dataset_raw_6h-100/assets\n"
     ]
    },
    {
     "name": "stderr",
     "output_type": "stream",
     "text": [
      "INFO:tensorflow:Assets written to: /home/alexander.lunel/Private/ML/Projet_ml/src/model/models/Close_price-dataset_raw_6h-100/assets\n"
     ]
    },
    {
     "name": "stdout",
     "output_type": "stream",
     "text": [
      "50/50 [==============================] - 7s 149ms/step - loss: 1.8910e-04 - root_mean_squared_error: 0.0138 - val_loss: 5.5536e-04 - val_root_mean_squared_error: 0.0236\n",
      "Epoch 15/100\n",
      "50/50 [==============================] - 2s 30ms/step - loss: 1.9008e-04 - root_mean_squared_error: 0.0138 - val_loss: 4.7583e-04 - val_root_mean_squared_error: 0.0218\n",
      "Epoch 16/100\n",
      "49/50 [============================>.] - ETA: 0s - loss: 1.8819e-04 - root_mean_squared_error: 0.0137"
     ]
    },
    {
     "name": "stderr",
     "output_type": "stream",
     "text": [
      "WARNING:absl:Found untraced functions such as lstm_cell_58_layer_call_fn, lstm_cell_58_layer_call_and_return_conditional_losses while saving (showing 2 of 2). These functions will not be directly callable after loading.\n"
     ]
    },
    {
     "name": "stdout",
     "output_type": "stream",
     "text": [
      "INFO:tensorflow:Assets written to: /home/alexander.lunel/Private/ML/Projet_ml/src/model/models/Close_price-dataset_raw_6h-100/assets\n"
     ]
    },
    {
     "name": "stderr",
     "output_type": "stream",
     "text": [
      "INFO:tensorflow:Assets written to: /home/alexander.lunel/Private/ML/Projet_ml/src/model/models/Close_price-dataset_raw_6h-100/assets\n"
     ]
    },
    {
     "name": "stdout",
     "output_type": "stream",
     "text": [
      "50/50 [==============================] - 7s 134ms/step - loss: 1.8898e-04 - root_mean_squared_error: 0.0137 - val_loss: 9.5241e-04 - val_root_mean_squared_error: 0.0309\n",
      "Epoch 17/100\n",
      "48/50 [===========================>..] - ETA: 0s - loss: 1.7453e-04 - root_mean_squared_error: 0.0132"
     ]
    },
    {
     "name": "stderr",
     "output_type": "stream",
     "text": [
      "WARNING:absl:Found untraced functions such as lstm_cell_58_layer_call_fn, lstm_cell_58_layer_call_and_return_conditional_losses while saving (showing 2 of 2). These functions will not be directly callable after loading.\n"
     ]
    },
    {
     "name": "stdout",
     "output_type": "stream",
     "text": [
      "INFO:tensorflow:Assets written to: /home/alexander.lunel/Private/ML/Projet_ml/src/model/models/Close_price-dataset_raw_6h-100/assets\n"
     ]
    },
    {
     "name": "stderr",
     "output_type": "stream",
     "text": [
      "INFO:tensorflow:Assets written to: /home/alexander.lunel/Private/ML/Projet_ml/src/model/models/Close_price-dataset_raw_6h-100/assets\n"
     ]
    },
    {
     "name": "stdout",
     "output_type": "stream",
     "text": [
      "50/50 [==============================] - 6s 131ms/step - loss: 1.7373e-04 - root_mean_squared_error: 0.0132 - val_loss: 5.0969e-04 - val_root_mean_squared_error: 0.0226\n",
      "Epoch 18/100\n",
      "50/50 [==============================] - 1s 30ms/step - loss: 1.7462e-04 - root_mean_squared_error: 0.0132 - val_loss: 7.1150e-04 - val_root_mean_squared_error: 0.0267\n",
      "Epoch 19/100\n",
      "50/50 [==============================] - 1s 29ms/step - loss: 1.7461e-04 - root_mean_squared_error: 0.0132 - val_loss: 4.7406e-04 - val_root_mean_squared_error: 0.0218\n",
      "Epoch 20/100\n",
      "49/50 [============================>.] - ETA: 0s - loss: 1.6633e-04 - root_mean_squared_error: 0.0129"
     ]
    },
    {
     "name": "stderr",
     "output_type": "stream",
     "text": [
      "WARNING:absl:Found untraced functions such as lstm_cell_58_layer_call_fn, lstm_cell_58_layer_call_and_return_conditional_losses while saving (showing 2 of 2). These functions will not be directly callable after loading.\n"
     ]
    },
    {
     "name": "stdout",
     "output_type": "stream",
     "text": [
      "INFO:tensorflow:Assets written to: /home/alexander.lunel/Private/ML/Projet_ml/src/model/models/Close_price-dataset_raw_6h-100/assets\n"
     ]
    },
    {
     "name": "stderr",
     "output_type": "stream",
     "text": [
      "INFO:tensorflow:Assets written to: /home/alexander.lunel/Private/ML/Projet_ml/src/model/models/Close_price-dataset_raw_6h-100/assets\n"
     ]
    },
    {
     "name": "stdout",
     "output_type": "stream",
     "text": [
      "50/50 [==============================] - 8s 165ms/step - loss: 1.7001e-04 - root_mean_squared_error: 0.0130 - val_loss: 9.5463e-04 - val_root_mean_squared_error: 0.0309\n",
      "Epoch 21/100\n",
      "50/50 [==============================] - 1s 29ms/step - loss: 1.8341e-04 - root_mean_squared_error: 0.0135 - val_loss: 4.2787e-04 - val_root_mean_squared_error: 0.0207\n",
      "Epoch 22/100\n",
      "50/50 [==============================] - 1s 30ms/step - loss: 1.7145e-04 - root_mean_squared_error: 0.0131 - val_loss: 4.6270e-04 - val_root_mean_squared_error: 0.0215\n",
      "Epoch 23/100\n",
      "50/50 [==============================] - ETA: 0s - loss: 1.5331e-04 - root_mean_squared_error: 0.0124"
     ]
    },
    {
     "name": "stderr",
     "output_type": "stream",
     "text": [
      "WARNING:absl:Found untraced functions such as lstm_cell_58_layer_call_fn, lstm_cell_58_layer_call_and_return_conditional_losses while saving (showing 2 of 2). These functions will not be directly callable after loading.\n"
     ]
    },
    {
     "name": "stdout",
     "output_type": "stream",
     "text": [
      "INFO:tensorflow:Assets written to: /home/alexander.lunel/Private/ML/Projet_ml/src/model/models/Close_price-dataset_raw_6h-100/assets\n"
     ]
    },
    {
     "name": "stderr",
     "output_type": "stream",
     "text": [
      "INFO:tensorflow:Assets written to: /home/alexander.lunel/Private/ML/Projet_ml/src/model/models/Close_price-dataset_raw_6h-100/assets\n"
     ]
    },
    {
     "name": "stdout",
     "output_type": "stream",
     "text": [
      "50/50 [==============================] - 7s 135ms/step - loss: 1.5331e-04 - root_mean_squared_error: 0.0124 - val_loss: 4.8765e-04 - val_root_mean_squared_error: 0.0221\n",
      "Epoch 24/100\n",
      "50/50 [==============================] - ETA: 0s - loss: 1.4887e-04 - root_mean_squared_error: 0.0122"
     ]
    },
    {
     "name": "stderr",
     "output_type": "stream",
     "text": [
      "WARNING:absl:Found untraced functions such as lstm_cell_58_layer_call_fn, lstm_cell_58_layer_call_and_return_conditional_losses while saving (showing 2 of 2). These functions will not be directly callable after loading.\n"
     ]
    },
    {
     "name": "stdout",
     "output_type": "stream",
     "text": [
      "INFO:tensorflow:Assets written to: /home/alexander.lunel/Private/ML/Projet_ml/src/model/models/Close_price-dataset_raw_6h-100/assets\n"
     ]
    },
    {
     "name": "stderr",
     "output_type": "stream",
     "text": [
      "INFO:tensorflow:Assets written to: /home/alexander.lunel/Private/ML/Projet_ml/src/model/models/Close_price-dataset_raw_6h-100/assets\n"
     ]
    },
    {
     "name": "stdout",
     "output_type": "stream",
     "text": [
      "50/50 [==============================] - 6s 128ms/step - loss: 1.4887e-04 - root_mean_squared_error: 0.0122 - val_loss: 4.8015e-04 - val_root_mean_squared_error: 0.0219\n",
      "Epoch 25/100\n",
      "50/50 [==============================] - 1s 30ms/step - loss: 1.5470e-04 - root_mean_squared_error: 0.0124 - val_loss: 7.1395e-04 - val_root_mean_squared_error: 0.0267\n",
      "Epoch 26/100\n",
      "50/50 [==============================] - 1s 30ms/step - loss: 1.5150e-04 - root_mean_squared_error: 0.0123 - val_loss: 4.6434e-04 - val_root_mean_squared_error: 0.0215\n",
      "Epoch 27/100\n",
      "50/50 [==============================] - 1s 30ms/step - loss: 1.5379e-04 - root_mean_squared_error: 0.0124 - val_loss: 7.9507e-04 - val_root_mean_squared_error: 0.0282\n",
      "Epoch 28/100\n",
      "48/50 [===========================>..] - ETA: 0s - loss: 1.4028e-04 - root_mean_squared_error: 0.0118"
     ]
    },
    {
     "name": "stderr",
     "output_type": "stream",
     "text": [
      "WARNING:absl:Found untraced functions such as lstm_cell_58_layer_call_fn, lstm_cell_58_layer_call_and_return_conditional_losses while saving (showing 2 of 2). These functions will not be directly callable after loading.\n"
     ]
    },
    {
     "name": "stdout",
     "output_type": "stream",
     "text": [
      "INFO:tensorflow:Assets written to: /home/alexander.lunel/Private/ML/Projet_ml/src/model/models/Close_price-dataset_raw_6h-100/assets\n"
     ]
    },
    {
     "name": "stderr",
     "output_type": "stream",
     "text": [
      "INFO:tensorflow:Assets written to: /home/alexander.lunel/Private/ML/Projet_ml/src/model/models/Close_price-dataset_raw_6h-100/assets\n"
     ]
    },
    {
     "name": "stdout",
     "output_type": "stream",
     "text": [
      "50/50 [==============================] - 7s 151ms/step - loss: 1.4170e-04 - root_mean_squared_error: 0.0119 - val_loss: 4.0942e-04 - val_root_mean_squared_error: 0.0202\n",
      "Epoch 29/100\n",
      "50/50 [==============================] - 2s 30ms/step - loss: 1.6680e-04 - root_mean_squared_error: 0.0129 - val_loss: 5.0842e-04 - val_root_mean_squared_error: 0.0225\n",
      "Epoch 30/100\n",
      "50/50 [==============================] - 1s 29ms/step - loss: 1.4671e-04 - root_mean_squared_error: 0.0121 - val_loss: 8.2089e-04 - val_root_mean_squared_error: 0.0287\n",
      "Epoch 31/100\n",
      "50/50 [==============================] - 1s 30ms/step - loss: 1.4484e-04 - root_mean_squared_error: 0.0120 - val_loss: 4.4235e-04 - val_root_mean_squared_error: 0.0210\n",
      "Epoch 32/100\n",
      "50/50 [==============================] - 1s 30ms/step - loss: 1.5106e-04 - root_mean_squared_error: 0.0123 - val_loss: 4.7660e-04 - val_root_mean_squared_error: 0.0218\n",
      "Epoch 33/100\n",
      "49/50 [============================>.] - ETA: 0s - loss: 1.4068e-04 - root_mean_squared_error: 0.0119"
     ]
    },
    {
     "name": "stderr",
     "output_type": "stream",
     "text": [
      "WARNING:absl:Found untraced functions such as lstm_cell_58_layer_call_fn, lstm_cell_58_layer_call_and_return_conditional_losses while saving (showing 2 of 2). These functions will not be directly callable after loading.\n"
     ]
    },
    {
     "name": "stdout",
     "output_type": "stream",
     "text": [
      "INFO:tensorflow:Assets written to: /home/alexander.lunel/Private/ML/Projet_ml/src/model/models/Close_price-dataset_raw_6h-100/assets\n"
     ]
    },
    {
     "name": "stderr",
     "output_type": "stream",
     "text": [
      "INFO:tensorflow:Assets written to: /home/alexander.lunel/Private/ML/Projet_ml/src/model/models/Close_price-dataset_raw_6h-100/assets\n"
     ]
    },
    {
     "name": "stdout",
     "output_type": "stream",
     "text": [
      "50/50 [==============================] - 7s 132ms/step - loss: 1.4048e-04 - root_mean_squared_error: 0.0119 - val_loss: 4.6958e-04 - val_root_mean_squared_error: 0.0217\n",
      "Epoch 34/100\n",
      "48/50 [===========================>..] - ETA: 0s - loss: 1.3788e-04 - root_mean_squared_error: 0.0117"
     ]
    },
    {
     "name": "stderr",
     "output_type": "stream",
     "text": [
      "WARNING:absl:Found untraced functions such as lstm_cell_58_layer_call_fn, lstm_cell_58_layer_call_and_return_conditional_losses while saving (showing 2 of 2). These functions will not be directly callable after loading.\n"
     ]
    },
    {
     "name": "stdout",
     "output_type": "stream",
     "text": [
      "INFO:tensorflow:Assets written to: /home/alexander.lunel/Private/ML/Projet_ml/src/model/models/Close_price-dataset_raw_6h-100/assets\n"
     ]
    },
    {
     "name": "stderr",
     "output_type": "stream",
     "text": [
      "INFO:tensorflow:Assets written to: /home/alexander.lunel/Private/ML/Projet_ml/src/model/models/Close_price-dataset_raw_6h-100/assets\n"
     ]
    },
    {
     "name": "stdout",
     "output_type": "stream",
     "text": [
      "50/50 [==============================] - 6s 131ms/step - loss: 1.3733e-04 - root_mean_squared_error: 0.0117 - val_loss: 6.1987e-04 - val_root_mean_squared_error: 0.0249\n",
      "Epoch 35/100\n",
      "48/50 [===========================>..] - ETA: 0s - loss: 1.3094e-04 - root_mean_squared_error: 0.0114"
     ]
    },
    {
     "name": "stderr",
     "output_type": "stream",
     "text": [
      "WARNING:absl:Found untraced functions such as lstm_cell_58_layer_call_fn, lstm_cell_58_layer_call_and_return_conditional_losses while saving (showing 2 of 2). These functions will not be directly callable after loading.\n"
     ]
    },
    {
     "name": "stdout",
     "output_type": "stream",
     "text": [
      "INFO:tensorflow:Assets written to: /home/alexander.lunel/Private/ML/Projet_ml/src/model/models/Close_price-dataset_raw_6h-100/assets\n"
     ]
    },
    {
     "name": "stderr",
     "output_type": "stream",
     "text": [
      "INFO:tensorflow:Assets written to: /home/alexander.lunel/Private/ML/Projet_ml/src/model/models/Close_price-dataset_raw_6h-100/assets\n"
     ]
    },
    {
     "name": "stdout",
     "output_type": "stream",
     "text": [
      "50/50 [==============================] - 8s 163ms/step - loss: 1.3222e-04 - root_mean_squared_error: 0.0115 - val_loss: 3.7333e-04 - val_root_mean_squared_error: 0.0193\n",
      "Epoch 36/100\n",
      "50/50 [==============================] - 1s 30ms/step - loss: 1.4194e-04 - root_mean_squared_error: 0.0119 - val_loss: 6.4402e-04 - val_root_mean_squared_error: 0.0254\n",
      "Epoch 37/100\n",
      "49/50 [============================>.] - ETA: 0s - loss: 1.2971e-04 - root_mean_squared_error: 0.0114"
     ]
    },
    {
     "name": "stderr",
     "output_type": "stream",
     "text": [
      "WARNING:absl:Found untraced functions such as lstm_cell_58_layer_call_fn, lstm_cell_58_layer_call_and_return_conditional_losses while saving (showing 2 of 2). These functions will not be directly callable after loading.\n"
     ]
    },
    {
     "name": "stdout",
     "output_type": "stream",
     "text": [
      "INFO:tensorflow:Assets written to: /home/alexander.lunel/Private/ML/Projet_ml/src/model/models/Close_price-dataset_raw_6h-100/assets\n"
     ]
    },
    {
     "name": "stderr",
     "output_type": "stream",
     "text": [
      "INFO:tensorflow:Assets written to: /home/alexander.lunel/Private/ML/Projet_ml/src/model/models/Close_price-dataset_raw_6h-100/assets\n"
     ]
    },
    {
     "name": "stdout",
     "output_type": "stream",
     "text": [
      "50/50 [==============================] - 6s 131ms/step - loss: 1.2976e-04 - root_mean_squared_error: 0.0114 - val_loss: 4.1782e-04 - val_root_mean_squared_error: 0.0204\n",
      "Epoch 38/100\n",
      "49/50 [============================>.] - ETA: 0s - loss: 1.2597e-04 - root_mean_squared_error: 0.0112"
     ]
    },
    {
     "name": "stderr",
     "output_type": "stream",
     "text": [
      "WARNING:absl:Found untraced functions such as lstm_cell_58_layer_call_fn, lstm_cell_58_layer_call_and_return_conditional_losses while saving (showing 2 of 2). These functions will not be directly callable after loading.\n"
     ]
    },
    {
     "name": "stdout",
     "output_type": "stream",
     "text": [
      "INFO:tensorflow:Assets written to: /home/alexander.lunel/Private/ML/Projet_ml/src/model/models/Close_price-dataset_raw_6h-100/assets\n"
     ]
    },
    {
     "name": "stderr",
     "output_type": "stream",
     "text": [
      "INFO:tensorflow:Assets written to: /home/alexander.lunel/Private/ML/Projet_ml/src/model/models/Close_price-dataset_raw_6h-100/assets\n"
     ]
    },
    {
     "name": "stdout",
     "output_type": "stream",
     "text": [
      "50/50 [==============================] - 7s 150ms/step - loss: 1.2601e-04 - root_mean_squared_error: 0.0112 - val_loss: 0.0011 - val_root_mean_squared_error: 0.0328\n",
      "Epoch 39/100\n",
      "50/50 [==============================] - 1s 30ms/step - loss: 1.2947e-04 - root_mean_squared_error: 0.0114 - val_loss: 6.2983e-04 - val_root_mean_squared_error: 0.0251\n",
      "Epoch 40/100\n",
      "50/50 [==============================] - 2s 30ms/step - loss: 1.4038e-04 - root_mean_squared_error: 0.0118 - val_loss: 4.6063e-04 - val_root_mean_squared_error: 0.0215\n",
      "Epoch 41/100\n",
      "49/50 [============================>.] - ETA: 0s - loss: 1.2416e-04 - root_mean_squared_error: 0.0111"
     ]
    },
    {
     "name": "stderr",
     "output_type": "stream",
     "text": [
      "WARNING:absl:Found untraced functions such as lstm_cell_58_layer_call_fn, lstm_cell_58_layer_call_and_return_conditional_losses while saving (showing 2 of 2). These functions will not be directly callable after loading.\n"
     ]
    },
    {
     "name": "stdout",
     "output_type": "stream",
     "text": [
      "INFO:tensorflow:Assets written to: /home/alexander.lunel/Private/ML/Projet_ml/src/model/models/Close_price-dataset_raw_6h-100/assets\n"
     ]
    },
    {
     "name": "stderr",
     "output_type": "stream",
     "text": [
      "INFO:tensorflow:Assets written to: /home/alexander.lunel/Private/ML/Projet_ml/src/model/models/Close_price-dataset_raw_6h-100/assets\n"
     ]
    },
    {
     "name": "stdout",
     "output_type": "stream",
     "text": [
      "50/50 [==============================] - 6s 131ms/step - loss: 1.2422e-04 - root_mean_squared_error: 0.0111 - val_loss: 3.8074e-04 - val_root_mean_squared_error: 0.0195\n",
      "Epoch 42/100\n",
      "49/50 [============================>.] - ETA: 0s - loss: 1.2157e-04 - root_mean_squared_error: 0.0110"
     ]
    },
    {
     "name": "stderr",
     "output_type": "stream",
     "text": [
      "WARNING:absl:Found untraced functions such as lstm_cell_58_layer_call_fn, lstm_cell_58_layer_call_and_return_conditional_losses while saving (showing 2 of 2). These functions will not be directly callable after loading.\n"
     ]
    },
    {
     "name": "stdout",
     "output_type": "stream",
     "text": [
      "INFO:tensorflow:Assets written to: /home/alexander.lunel/Private/ML/Projet_ml/src/model/models/Close_price-dataset_raw_6h-100/assets\n"
     ]
    },
    {
     "name": "stderr",
     "output_type": "stream",
     "text": [
      "INFO:tensorflow:Assets written to: /home/alexander.lunel/Private/ML/Projet_ml/src/model/models/Close_price-dataset_raw_6h-100/assets\n"
     ]
    },
    {
     "name": "stdout",
     "output_type": "stream",
     "text": [
      "50/50 [==============================] - 6s 128ms/step - loss: 1.2208e-04 - root_mean_squared_error: 0.0110 - val_loss: 7.7926e-04 - val_root_mean_squared_error: 0.0279\n",
      "Epoch 43/100\n",
      "50/50 [==============================] - ETA: 0s - loss: 1.2066e-04 - root_mean_squared_error: 0.0110"
     ]
    },
    {
     "name": "stderr",
     "output_type": "stream",
     "text": [
      "WARNING:absl:Found untraced functions such as lstm_cell_58_layer_call_fn, lstm_cell_58_layer_call_and_return_conditional_losses while saving (showing 2 of 2). These functions will not be directly callable after loading.\n"
     ]
    },
    {
     "name": "stdout",
     "output_type": "stream",
     "text": [
      "INFO:tensorflow:Assets written to: /home/alexander.lunel/Private/ML/Projet_ml/src/model/models/Close_price-dataset_raw_6h-100/assets\n"
     ]
    },
    {
     "name": "stderr",
     "output_type": "stream",
     "text": [
      "INFO:tensorflow:Assets written to: /home/alexander.lunel/Private/ML/Projet_ml/src/model/models/Close_price-dataset_raw_6h-100/assets\n"
     ]
    },
    {
     "name": "stdout",
     "output_type": "stream",
     "text": [
      "50/50 [==============================] - 8s 159ms/step - loss: 1.2066e-04 - root_mean_squared_error: 0.0110 - val_loss: 6.6718e-04 - val_root_mean_squared_error: 0.0258\n",
      "Epoch 44/100\n",
      "49/50 [============================>.] - ETA: 0s - loss: 1.1938e-04 - root_mean_squared_error: 0.0109"
     ]
    },
    {
     "name": "stderr",
     "output_type": "stream",
     "text": [
      "WARNING:absl:Found untraced functions such as lstm_cell_58_layer_call_fn, lstm_cell_58_layer_call_and_return_conditional_losses while saving (showing 2 of 2). These functions will not be directly callable after loading.\n"
     ]
    },
    {
     "name": "stdout",
     "output_type": "stream",
     "text": [
      "INFO:tensorflow:Assets written to: /home/alexander.lunel/Private/ML/Projet_ml/src/model/models/Close_price-dataset_raw_6h-100/assets\n"
     ]
    },
    {
     "name": "stderr",
     "output_type": "stream",
     "text": [
      "INFO:tensorflow:Assets written to: /home/alexander.lunel/Private/ML/Projet_ml/src/model/models/Close_price-dataset_raw_6h-100/assets\n"
     ]
    },
    {
     "name": "stdout",
     "output_type": "stream",
     "text": [
      "50/50 [==============================] - 7s 133ms/step - loss: 1.1919e-04 - root_mean_squared_error: 0.0109 - val_loss: 4.3567e-04 - val_root_mean_squared_error: 0.0209\n",
      "Epoch 45/100\n",
      "50/50 [==============================] - 2s 30ms/step - loss: 1.4284e-04 - root_mean_squared_error: 0.0120 - val_loss: 6.1164e-04 - val_root_mean_squared_error: 0.0247\n",
      "Epoch 46/100\n",
      "50/50 [==============================] - 2s 30ms/step - loss: 1.1999e-04 - root_mean_squared_error: 0.0110 - val_loss: 4.6834e-04 - val_root_mean_squared_error: 0.0216\n",
      "Epoch 47/100\n",
      "50/50 [==============================] - 1s 29ms/step - loss: 1.3008e-04 - root_mean_squared_error: 0.0114 - val_loss: 4.9875e-04 - val_root_mean_squared_error: 0.0223\n",
      "Epoch 48/100\n",
      "50/50 [==============================] - 1s 30ms/step - loss: 1.2876e-04 - root_mean_squared_error: 0.0113 - val_loss: 7.0203e-04 - val_root_mean_squared_error: 0.0265\n",
      "Epoch 49/100\n",
      "50/50 [==============================] - ETA: 0s - loss: 1.0890e-04 - root_mean_squared_error: 0.0104"
     ]
    },
    {
     "name": "stderr",
     "output_type": "stream",
     "text": [
      "WARNING:absl:Found untraced functions such as lstm_cell_58_layer_call_fn, lstm_cell_58_layer_call_and_return_conditional_losses while saving (showing 2 of 2). These functions will not be directly callable after loading.\n"
     ]
    },
    {
     "name": "stdout",
     "output_type": "stream",
     "text": [
      "INFO:tensorflow:Assets written to: /home/alexander.lunel/Private/ML/Projet_ml/src/model/models/Close_price-dataset_raw_6h-100/assets\n"
     ]
    },
    {
     "name": "stderr",
     "output_type": "stream",
     "text": [
      "INFO:tensorflow:Assets written to: /home/alexander.lunel/Private/ML/Projet_ml/src/model/models/Close_price-dataset_raw_6h-100/assets\n"
     ]
    },
    {
     "name": "stdout",
     "output_type": "stream",
     "text": [
      "50/50 [==============================] - 7s 139ms/step - loss: 1.0890e-04 - root_mean_squared_error: 0.0104 - val_loss: 2.9979e-04 - val_root_mean_squared_error: 0.0173\n",
      "Epoch 50/100\n",
      "50/50 [==============================] - 2s 30ms/step - loss: 1.2265e-04 - root_mean_squared_error: 0.0111 - val_loss: 4.1090e-04 - val_root_mean_squared_error: 0.0203\n",
      "Epoch 51/100\n",
      "50/50 [==============================] - 1s 30ms/step - loss: 1.2815e-04 - root_mean_squared_error: 0.0113 - val_loss: 4.8796e-04 - val_root_mean_squared_error: 0.0221\n",
      "Epoch 52/100\n",
      "48/50 [===========================>..] - ETA: 0s - loss: 1.0392e-04 - root_mean_squared_error: 0.0102"
     ]
    },
    {
     "name": "stderr",
     "output_type": "stream",
     "text": [
      "WARNING:absl:Found untraced functions such as lstm_cell_58_layer_call_fn, lstm_cell_58_layer_call_and_return_conditional_losses while saving (showing 2 of 2). These functions will not be directly callable after loading.\n"
     ]
    },
    {
     "name": "stdout",
     "output_type": "stream",
     "text": [
      "INFO:tensorflow:Assets written to: /home/alexander.lunel/Private/ML/Projet_ml/src/model/models/Close_price-dataset_raw_6h-100/assets\n"
     ]
    },
    {
     "name": "stderr",
     "output_type": "stream",
     "text": [
      "INFO:tensorflow:Assets written to: /home/alexander.lunel/Private/ML/Projet_ml/src/model/models/Close_price-dataset_raw_6h-100/assets\n"
     ]
    },
    {
     "name": "stdout",
     "output_type": "stream",
     "text": [
      "50/50 [==============================] - 8s 155ms/step - loss: 1.0496e-04 - root_mean_squared_error: 0.0102 - val_loss: 2.8916e-04 - val_root_mean_squared_error: 0.0170\n",
      "Epoch 53/100\n",
      "49/50 [============================>.] - ETA: 0s - loss: 1.0439e-04 - root_mean_squared_error: 0.0102"
     ]
    },
    {
     "name": "stderr",
     "output_type": "stream",
     "text": [
      "WARNING:absl:Found untraced functions such as lstm_cell_58_layer_call_fn, lstm_cell_58_layer_call_and_return_conditional_losses while saving (showing 2 of 2). These functions will not be directly callable after loading.\n"
     ]
    },
    {
     "name": "stdout",
     "output_type": "stream",
     "text": [
      "INFO:tensorflow:Assets written to: /home/alexander.lunel/Private/ML/Projet_ml/src/model/models/Close_price-dataset_raw_6h-100/assets\n"
     ]
    },
    {
     "name": "stderr",
     "output_type": "stream",
     "text": [
      "INFO:tensorflow:Assets written to: /home/alexander.lunel/Private/ML/Projet_ml/src/model/models/Close_price-dataset_raw_6h-100/assets\n"
     ]
    },
    {
     "name": "stdout",
     "output_type": "stream",
     "text": [
      "50/50 [==============================] - 6s 131ms/step - loss: 1.0454e-04 - root_mean_squared_error: 0.0102 - val_loss: 2.9063e-04 - val_root_mean_squared_error: 0.0170\n",
      "Epoch 54/100\n",
      "50/50 [==============================] - 1s 29ms/step - loss: 1.1139e-04 - root_mean_squared_error: 0.0106 - val_loss: 3.1818e-04 - val_root_mean_squared_error: 0.0178\n",
      "Epoch 55/100\n",
      "50/50 [==============================] - 1s 30ms/step - loss: 1.0899e-04 - root_mean_squared_error: 0.0104 - val_loss: 3.7636e-04 - val_root_mean_squared_error: 0.0194\n",
      "Epoch 56/100\n",
      "50/50 [==============================] - 1s 30ms/step - loss: 1.1818e-04 - root_mean_squared_error: 0.0109 - val_loss: 5.8281e-04 - val_root_mean_squared_error: 0.0241\n",
      "Epoch 57/100\n",
      "49/50 [============================>.] - ETA: 0s - loss: 1.0028e-04 - root_mean_squared_error: 0.0100"
     ]
    },
    {
     "name": "stderr",
     "output_type": "stream",
     "text": [
      "WARNING:absl:Found untraced functions such as lstm_cell_58_layer_call_fn, lstm_cell_58_layer_call_and_return_conditional_losses while saving (showing 2 of 2). These functions will not be directly callable after loading.\n"
     ]
    },
    {
     "name": "stdout",
     "output_type": "stream",
     "text": [
      "INFO:tensorflow:Assets written to: /home/alexander.lunel/Private/ML/Projet_ml/src/model/models/Close_price-dataset_raw_6h-100/assets\n"
     ]
    },
    {
     "name": "stderr",
     "output_type": "stream",
     "text": [
      "INFO:tensorflow:Assets written to: /home/alexander.lunel/Private/ML/Projet_ml/src/model/models/Close_price-dataset_raw_6h-100/assets\n"
     ]
    },
    {
     "name": "stdout",
     "output_type": "stream",
     "text": [
      "50/50 [==============================] - 6s 129ms/step - loss: 1.0015e-04 - root_mean_squared_error: 0.0100 - val_loss: 5.1943e-04 - val_root_mean_squared_error: 0.0228\n",
      "Epoch 58/100\n",
      "49/50 [============================>.] - ETA: 0s - loss: 1.0022e-04 - root_mean_squared_error: 0.0100"
     ]
    },
    {
     "name": "stderr",
     "output_type": "stream",
     "text": [
      "WARNING:absl:Found untraced functions such as lstm_cell_58_layer_call_fn, lstm_cell_58_layer_call_and_return_conditional_losses while saving (showing 2 of 2). These functions will not be directly callable after loading.\n"
     ]
    },
    {
     "name": "stdout",
     "output_type": "stream",
     "text": [
      "INFO:tensorflow:Assets written to: /home/alexander.lunel/Private/ML/Projet_ml/src/model/models/Close_price-dataset_raw_6h-100/assets\n"
     ]
    },
    {
     "name": "stderr",
     "output_type": "stream",
     "text": [
      "INFO:tensorflow:Assets written to: /home/alexander.lunel/Private/ML/Projet_ml/src/model/models/Close_price-dataset_raw_6h-100/assets\n"
     ]
    },
    {
     "name": "stdout",
     "output_type": "stream",
     "text": [
      "50/50 [==============================] - 8s 154ms/step - loss: 9.9788e-05 - root_mean_squared_error: 0.0100 - val_loss: 4.5120e-04 - val_root_mean_squared_error: 0.0212\n",
      "Epoch 59/100\n",
      "49/50 [============================>.] - ETA: 0s - loss: 9.8438e-05 - root_mean_squared_error: 0.0099"
     ]
    },
    {
     "name": "stderr",
     "output_type": "stream",
     "text": [
      "WARNING:absl:Found untraced functions such as lstm_cell_58_layer_call_fn, lstm_cell_58_layer_call_and_return_conditional_losses while saving (showing 2 of 2). These functions will not be directly callable after loading.\n"
     ]
    },
    {
     "name": "stdout",
     "output_type": "stream",
     "text": [
      "INFO:tensorflow:Assets written to: /home/alexander.lunel/Private/ML/Projet_ml/src/model/models/Close_price-dataset_raw_6h-100/assets\n"
     ]
    },
    {
     "name": "stderr",
     "output_type": "stream",
     "text": [
      "INFO:tensorflow:Assets written to: /home/alexander.lunel/Private/ML/Projet_ml/src/model/models/Close_price-dataset_raw_6h-100/assets\n"
     ]
    },
    {
     "name": "stdout",
     "output_type": "stream",
     "text": [
      "50/50 [==============================] - 7s 145ms/step - loss: 9.8946e-05 - root_mean_squared_error: 0.0099 - val_loss: 3.9663e-04 - val_root_mean_squared_error: 0.0199\n",
      "Epoch 60/100\n",
      "50/50 [==============================] - 1s 29ms/step - loss: 9.9317e-05 - root_mean_squared_error: 0.0100 - val_loss: 9.4643e-04 - val_root_mean_squared_error: 0.0308\n",
      "Epoch 61/100\n",
      "50/50 [==============================] - 1s 29ms/step - loss: 1.5044e-04 - root_mean_squared_error: 0.0123 - val_loss: 4.9385e-04 - val_root_mean_squared_error: 0.0222\n",
      "Epoch 62/100\n",
      "49/50 [============================>.] - ETA: 0s - loss: 9.7443e-05 - root_mean_squared_error: 0.0099"
     ]
    },
    {
     "name": "stderr",
     "output_type": "stream",
     "text": [
      "WARNING:absl:Found untraced functions such as lstm_cell_58_layer_call_fn, lstm_cell_58_layer_call_and_return_conditional_losses while saving (showing 2 of 2). These functions will not be directly callable after loading.\n"
     ]
    },
    {
     "name": "stdout",
     "output_type": "stream",
     "text": [
      "INFO:tensorflow:Assets written to: /home/alexander.lunel/Private/ML/Projet_ml/src/model/models/Close_price-dataset_raw_6h-100/assets\n"
     ]
    },
    {
     "name": "stderr",
     "output_type": "stream",
     "text": [
      "INFO:tensorflow:Assets written to: /home/alexander.lunel/Private/ML/Projet_ml/src/model/models/Close_price-dataset_raw_6h-100/assets\n"
     ]
    },
    {
     "name": "stdout",
     "output_type": "stream",
     "text": [
      "50/50 [==============================] - 6s 129ms/step - loss: 9.7003e-05 - root_mean_squared_error: 0.0098 - val_loss: 2.8598e-04 - val_root_mean_squared_error: 0.0169\n",
      "Epoch 63/100\n",
      "50/50 [==============================] - 2s 30ms/step - loss: 1.0766e-04 - root_mean_squared_error: 0.0104 - val_loss: 4.1763e-04 - val_root_mean_squared_error: 0.0204\n",
      "Epoch 64/100\n",
      "50/50 [==============================] - 1s 30ms/step - loss: 1.3256e-04 - root_mean_squared_error: 0.0115 - val_loss: 9.2405e-04 - val_root_mean_squared_error: 0.0304\n",
      "Epoch 65/100\n",
      "50/50 [==============================] - 1s 30ms/step - loss: 1.0255e-04 - root_mean_squared_error: 0.0101 - val_loss: 3.8679e-04 - val_root_mean_squared_error: 0.0197\n",
      "Epoch 66/100\n",
      "50/50 [==============================] - 1s 29ms/step - loss: 9.9777e-05 - root_mean_squared_error: 0.0100 - val_loss: 3.7016e-04 - val_root_mean_squared_error: 0.0192\n",
      "Epoch 67/100\n",
      "50/50 [==============================] - 1s 29ms/step - loss: 1.0334e-04 - root_mean_squared_error: 0.0102 - val_loss: 4.6345e-04 - val_root_mean_squared_error: 0.0215\n",
      "Epoch 68/100\n",
      "50/50 [==============================] - 2s 30ms/step - loss: 1.0435e-04 - root_mean_squared_error: 0.0102 - val_loss: 4.5200e-04 - val_root_mean_squared_error: 0.0213\n",
      "Epoch 69/100\n",
      "50/50 [==============================] - 2s 31ms/step - loss: 1.0541e-04 - root_mean_squared_error: 0.0103 - val_loss: 3.9759e-04 - val_root_mean_squared_error: 0.0199\n",
      "Epoch 70/100\n",
      "49/50 [============================>.] - ETA: 0s - loss: 9.2098e-05 - root_mean_squared_error: 0.0096"
     ]
    },
    {
     "name": "stderr",
     "output_type": "stream",
     "text": [
      "WARNING:absl:Found untraced functions such as lstm_cell_58_layer_call_fn, lstm_cell_58_layer_call_and_return_conditional_losses while saving (showing 2 of 2). These functions will not be directly callable after loading.\n"
     ]
    },
    {
     "name": "stdout",
     "output_type": "stream",
     "text": [
      "INFO:tensorflow:Assets written to: /home/alexander.lunel/Private/ML/Projet_ml/src/model/models/Close_price-dataset_raw_6h-100/assets\n"
     ]
    },
    {
     "name": "stderr",
     "output_type": "stream",
     "text": [
      "INFO:tensorflow:Assets written to: /home/alexander.lunel/Private/ML/Projet_ml/src/model/models/Close_price-dataset_raw_6h-100/assets\n"
     ]
    },
    {
     "name": "stdout",
     "output_type": "stream",
     "text": [
      "50/50 [==============================] - 8s 165ms/step - loss: 9.2342e-05 - root_mean_squared_error: 0.0096 - val_loss: 2.1765e-04 - val_root_mean_squared_error: 0.0148\n",
      "Epoch 71/100\n",
      "50/50 [==============================] - 1s 30ms/step - loss: 9.9537e-05 - root_mean_squared_error: 0.0100 - val_loss: 4.7986e-04 - val_root_mean_squared_error: 0.0219\n",
      "Epoch 72/100\n",
      "50/50 [==============================] - 1s 29ms/step - loss: 1.1317e-04 - root_mean_squared_error: 0.0106 - val_loss: 7.2495e-04 - val_root_mean_squared_error: 0.0269\n",
      "Epoch 73/100\n",
      "50/50 [==============================] - 1s 30ms/step - loss: 9.6974e-05 - root_mean_squared_error: 0.0098 - val_loss: 3.5024e-04 - val_root_mean_squared_error: 0.0187\n",
      "Epoch 74/100\n",
      "49/50 [============================>.] - ETA: 0s - loss: 9.1394e-05 - root_mean_squared_error: 0.0096"
     ]
    },
    {
     "name": "stderr",
     "output_type": "stream",
     "text": [
      "WARNING:absl:Found untraced functions such as lstm_cell_58_layer_call_fn, lstm_cell_58_layer_call_and_return_conditional_losses while saving (showing 2 of 2). These functions will not be directly callable after loading.\n"
     ]
    },
    {
     "name": "stdout",
     "output_type": "stream",
     "text": [
      "INFO:tensorflow:Assets written to: /home/alexander.lunel/Private/ML/Projet_ml/src/model/models/Close_price-dataset_raw_6h-100/assets\n"
     ]
    },
    {
     "name": "stderr",
     "output_type": "stream",
     "text": [
      "INFO:tensorflow:Assets written to: /home/alexander.lunel/Private/ML/Projet_ml/src/model/models/Close_price-dataset_raw_6h-100/assets\n"
     ]
    },
    {
     "name": "stdout",
     "output_type": "stream",
     "text": [
      "50/50 [==============================] - 7s 139ms/step - loss: 9.1583e-05 - root_mean_squared_error: 0.0096 - val_loss: 5.0898e-04 - val_root_mean_squared_error: 0.0226\n",
      "Epoch 75/100\n",
      "50/50 [==============================] - 1s 30ms/step - loss: 1.1162e-04 - root_mean_squared_error: 0.0106 - val_loss: 3.5672e-04 - val_root_mean_squared_error: 0.0189\n",
      "Epoch 76/100\n",
      "50/50 [==============================] - ETA: 0s - loss: 8.9985e-05 - root_mean_squared_error: 0.0095"
     ]
    },
    {
     "name": "stderr",
     "output_type": "stream",
     "text": [
      "WARNING:absl:Found untraced functions such as lstm_cell_58_layer_call_fn, lstm_cell_58_layer_call_and_return_conditional_losses while saving (showing 2 of 2). These functions will not be directly callable after loading.\n"
     ]
    },
    {
     "name": "stdout",
     "output_type": "stream",
     "text": [
      "INFO:tensorflow:Assets written to: /home/alexander.lunel/Private/ML/Projet_ml/src/model/models/Close_price-dataset_raw_6h-100/assets\n"
     ]
    },
    {
     "name": "stderr",
     "output_type": "stream",
     "text": [
      "INFO:tensorflow:Assets written to: /home/alexander.lunel/Private/ML/Projet_ml/src/model/models/Close_price-dataset_raw_6h-100/assets\n"
     ]
    },
    {
     "name": "stdout",
     "output_type": "stream",
     "text": [
      "50/50 [==============================] - 8s 158ms/step - loss: 8.9985e-05 - root_mean_squared_error: 0.0095 - val_loss: 3.2228e-04 - val_root_mean_squared_error: 0.0180\n",
      "Epoch 77/100\n",
      "50/50 [==============================] - 1s 30ms/step - loss: 9.5867e-05 - root_mean_squared_error: 0.0098 - val_loss: 3.0776e-04 - val_root_mean_squared_error: 0.0175\n",
      "Epoch 78/100\n",
      "50/50 [==============================] - 2s 30ms/step - loss: 9.4410e-05 - root_mean_squared_error: 0.0097 - val_loss: 6.4603e-04 - val_root_mean_squared_error: 0.0254\n",
      "Epoch 79/100\n",
      "50/50 [==============================] - 1s 30ms/step - loss: 1.0426e-04 - root_mean_squared_error: 0.0102 - val_loss: 4.2302e-04 - val_root_mean_squared_error: 0.0206\n",
      "Epoch 80/100\n",
      "50/50 [==============================] - 1s 29ms/step - loss: 1.0894e-04 - root_mean_squared_error: 0.0104 - val_loss: 4.0464e-04 - val_root_mean_squared_error: 0.0201\n",
      "Epoch 81/100\n",
      "48/50 [===========================>..] - ETA: 0s - loss: 8.8722e-05 - root_mean_squared_error: 0.0094"
     ]
    },
    {
     "name": "stderr",
     "output_type": "stream",
     "text": [
      "WARNING:absl:Found untraced functions such as lstm_cell_58_layer_call_fn, lstm_cell_58_layer_call_and_return_conditional_losses while saving (showing 2 of 2). These functions will not be directly callable after loading.\n"
     ]
    },
    {
     "name": "stdout",
     "output_type": "stream",
     "text": [
      "INFO:tensorflow:Assets written to: /home/alexander.lunel/Private/ML/Projet_ml/src/model/models/Close_price-dataset_raw_6h-100/assets\n"
     ]
    },
    {
     "name": "stderr",
     "output_type": "stream",
     "text": [
      "INFO:tensorflow:Assets written to: /home/alexander.lunel/Private/ML/Projet_ml/src/model/models/Close_price-dataset_raw_6h-100/assets\n"
     ]
    },
    {
     "name": "stdout",
     "output_type": "stream",
     "text": [
      "50/50 [==============================] - 6s 129ms/step - loss: 8.7968e-05 - root_mean_squared_error: 0.0094 - val_loss: 4.3584e-04 - val_root_mean_squared_error: 0.0209\n",
      "Epoch 82/100\n",
      "50/50 [==============================] - 1s 30ms/step - loss: 9.6441e-05 - root_mean_squared_error: 0.0098 - val_loss: 8.6155e-04 - val_root_mean_squared_error: 0.0294\n",
      "Epoch 83/100\n",
      "50/50 [==============================] - 1s 30ms/step - loss: 1.0915e-04 - root_mean_squared_error: 0.0104 - val_loss: 7.2405e-04 - val_root_mean_squared_error: 0.0269\n",
      "Epoch 84/100\n",
      "50/50 [==============================] - 1s 29ms/step - loss: 9.9141e-05 - root_mean_squared_error: 0.0100 - val_loss: 3.8081e-04 - val_root_mean_squared_error: 0.0195\n",
      "Epoch 85/100\n",
      "50/50 [==============================] - 2s 30ms/step - loss: 1.0452e-04 - root_mean_squared_error: 0.0102 - val_loss: 5.1378e-04 - val_root_mean_squared_error: 0.0227\n",
      "Epoch 86/100\n",
      "49/50 [============================>.] - ETA: 0s - loss: 8.7076e-05 - root_mean_squared_error: 0.0093"
     ]
    },
    {
     "name": "stderr",
     "output_type": "stream",
     "text": [
      "WARNING:absl:Found untraced functions such as lstm_cell_58_layer_call_fn, lstm_cell_58_layer_call_and_return_conditional_losses while saving (showing 2 of 2). These functions will not be directly callable after loading.\n"
     ]
    },
    {
     "name": "stdout",
     "output_type": "stream",
     "text": [
      "INFO:tensorflow:Assets written to: /home/alexander.lunel/Private/ML/Projet_ml/src/model/models/Close_price-dataset_raw_6h-100/assets\n"
     ]
    },
    {
     "name": "stderr",
     "output_type": "stream",
     "text": [
      "INFO:tensorflow:Assets written to: /home/alexander.lunel/Private/ML/Projet_ml/src/model/models/Close_price-dataset_raw_6h-100/assets\n"
     ]
    },
    {
     "name": "stdout",
     "output_type": "stream",
     "text": [
      "50/50 [==============================] - 7s 138ms/step - loss: 8.6811e-05 - root_mean_squared_error: 0.0093 - val_loss: 3.0379e-04 - val_root_mean_squared_error: 0.0174\n",
      "Epoch 87/100\n",
      "50/50 [==============================] - ETA: 0s - loss: 8.3686e-05 - root_mean_squared_error: 0.0091"
     ]
    },
    {
     "name": "stderr",
     "output_type": "stream",
     "text": [
      "WARNING:absl:Found untraced functions such as lstm_cell_58_layer_call_fn, lstm_cell_58_layer_call_and_return_conditional_losses while saving (showing 2 of 2). These functions will not be directly callable after loading.\n"
     ]
    },
    {
     "name": "stdout",
     "output_type": "stream",
     "text": [
      "INFO:tensorflow:Assets written to: /home/alexander.lunel/Private/ML/Projet_ml/src/model/models/Close_price-dataset_raw_6h-100/assets\n"
     ]
    },
    {
     "name": "stderr",
     "output_type": "stream",
     "text": [
      "INFO:tensorflow:Assets written to: /home/alexander.lunel/Private/ML/Projet_ml/src/model/models/Close_price-dataset_raw_6h-100/assets\n"
     ]
    },
    {
     "name": "stdout",
     "output_type": "stream",
     "text": [
      "50/50 [==============================] - 8s 168ms/step - loss: 8.3686e-05 - root_mean_squared_error: 0.0091 - val_loss: 4.2606e-04 - val_root_mean_squared_error: 0.0206\n",
      "Epoch 88/100\n",
      "50/50 [==============================] - 1s 29ms/step - loss: 9.7471e-05 - root_mean_squared_error: 0.0099 - val_loss: 3.4204e-04 - val_root_mean_squared_error: 0.0185\n",
      "Epoch 89/100\n",
      "50/50 [==============================] - 1s 29ms/step - loss: 1.1415e-04 - root_mean_squared_error: 0.0107 - val_loss: 2.5548e-04 - val_root_mean_squared_error: 0.0160\n",
      "Epoch 90/100\n",
      "50/50 [==============================] - ETA: 0s - loss: 8.3675e-05 - root_mean_squared_error: 0.0091"
     ]
    },
    {
     "name": "stderr",
     "output_type": "stream",
     "text": [
      "WARNING:absl:Found untraced functions such as lstm_cell_58_layer_call_fn, lstm_cell_58_layer_call_and_return_conditional_losses while saving (showing 2 of 2). These functions will not be directly callable after loading.\n"
     ]
    },
    {
     "name": "stdout",
     "output_type": "stream",
     "text": [
      "INFO:tensorflow:Assets written to: /home/alexander.lunel/Private/ML/Projet_ml/src/model/models/Close_price-dataset_raw_6h-100/assets\n"
     ]
    },
    {
     "name": "stderr",
     "output_type": "stream",
     "text": [
      "INFO:tensorflow:Assets written to: /home/alexander.lunel/Private/ML/Projet_ml/src/model/models/Close_price-dataset_raw_6h-100/assets\n"
     ]
    },
    {
     "name": "stdout",
     "output_type": "stream",
     "text": [
      "50/50 [==============================] - 7s 137ms/step - loss: 8.3675e-05 - root_mean_squared_error: 0.0091 - val_loss: 2.4513e-04 - val_root_mean_squared_error: 0.0157\n",
      "Epoch 91/100\n",
      "50/50 [==============================] - 1s 30ms/step - loss: 8.9651e-05 - root_mean_squared_error: 0.0095 - val_loss: 2.5313e-04 - val_root_mean_squared_error: 0.0159\n",
      "Epoch 92/100\n",
      "49/50 [============================>.] - ETA: 0s - loss: 8.1017e-05 - root_mean_squared_error: 0.0090"
     ]
    },
    {
     "name": "stderr",
     "output_type": "stream",
     "text": [
      "WARNING:absl:Found untraced functions such as lstm_cell_58_layer_call_fn, lstm_cell_58_layer_call_and_return_conditional_losses while saving (showing 2 of 2). These functions will not be directly callable after loading.\n"
     ]
    },
    {
     "name": "stdout",
     "output_type": "stream",
     "text": [
      "INFO:tensorflow:Assets written to: /home/alexander.lunel/Private/ML/Projet_ml/src/model/models/Close_price-dataset_raw_6h-100/assets\n"
     ]
    },
    {
     "name": "stderr",
     "output_type": "stream",
     "text": [
      "INFO:tensorflow:Assets written to: /home/alexander.lunel/Private/ML/Projet_ml/src/model/models/Close_price-dataset_raw_6h-100/assets\n"
     ]
    },
    {
     "name": "stdout",
     "output_type": "stream",
     "text": [
      "50/50 [==============================] - 7s 139ms/step - loss: 8.1147e-05 - root_mean_squared_error: 0.0090 - val_loss: 3.4725e-04 - val_root_mean_squared_error: 0.0186\n",
      "Epoch 93/100\n",
      "50/50 [==============================] - 1s 29ms/step - loss: 8.8426e-05 - root_mean_squared_error: 0.0094 - val_loss: 3.8381e-04 - val_root_mean_squared_error: 0.0196\n",
      "Epoch 94/100\n",
      "50/50 [==============================] - 1s 29ms/step - loss: 8.4887e-05 - root_mean_squared_error: 0.0092 - val_loss: 3.3180e-04 - val_root_mean_squared_error: 0.0182\n",
      "Epoch 95/100\n",
      "50/50 [==============================] - 2s 30ms/step - loss: 9.0000e-05 - root_mean_squared_error: 0.0095 - val_loss: 3.5821e-04 - val_root_mean_squared_error: 0.0189\n",
      "Epoch 96/100\n",
      "50/50 [==============================] - 1s 30ms/step - loss: 8.7316e-05 - root_mean_squared_error: 0.0093 - val_loss: 5.9111e-04 - val_root_mean_squared_error: 0.0243\n",
      "Epoch 97/100\n",
      "50/50 [==============================] - 1s 30ms/step - loss: 1.0160e-04 - root_mean_squared_error: 0.0101 - val_loss: 3.3956e-04 - val_root_mean_squared_error: 0.0184\n",
      "Epoch 98/100\n",
      "50/50 [==============================] - 1s 29ms/step - loss: 8.8368e-05 - root_mean_squared_error: 0.0094 - val_loss: 3.0690e-04 - val_root_mean_squared_error: 0.0175\n",
      "Epoch 99/100\n",
      "50/50 [==============================] - 1s 29ms/step - loss: 9.2589e-05 - root_mean_squared_error: 0.0096 - val_loss: 3.7155e-04 - val_root_mean_squared_error: 0.0193\n",
      "Epoch 100/100\n",
      "50/50 [==============================] - 1s 29ms/step - loss: 9.0695e-05 - root_mean_squared_error: 0.0095 - val_loss: 5.2400e-04 - val_root_mean_squared_error: 0.0229\n"
     ]
    }
   ],
   "source": [
    "N_EPOCHS = 100\n",
    "model_name = \"Close_price\"\n",
    "full_model_name = model_name+'-'+data_name+'-'+str(N_EPOCHS)\n",
    "\n",
    "main_training_model(full_model_name, scaler_features, scaler_target, X_train, y_train, X_val, y_val, N_EPOCHS)"
   ]
  },
  {
   "cell_type": "markdown",
   "metadata": {},
   "source": [
    "#### Analyse du modèle Close_price-dataset_raw_6h-100"
   ]
  },
  {
   "cell_type": "code",
   "execution_count": 131,
   "metadata": {},
   "outputs": [],
   "source": [
    "def analyze(date, X, y, predictions):\n",
    "    \"\"\"\n",
    "    \"\"\"\n",
    "    df_analyze = pd.concat([\n",
    "                            pd.DataFrame(date), \n",
    "                            pd.DataFrame(X[:, WINDOW_SIZE-1, 0]), \n",
    "                            pd.DataFrame(y.reshape(-1)), \n",
    "                            pd.DataFrame(predictions)\n",
    "                            ], axis=1)\n",
    "    \n",
    "    df_analyze.columns = ['Date', 'Actual N', 'Actual N+1', 'Predictions N+1']\n",
    "\n",
    "    df_analyze_minuit = df_analyze[pd.to_datetime(df_analyze['Date']).dt.time == pd.Timestamp('00:00:00').time()]\n",
    "\n",
    "    df_analyze_minuit['Actual UP or DOWN'] = pd.DataFrame((df_analyze_minuit['Actual N+1'] > df_analyze_minuit['Actual N']).astype(int))\n",
    "    df_analyze_minuit['Predicted UP or DOWN'] = pd.DataFrame((df_analyze_minuit['Predictions N+1'] > df_analyze_minuit['Actual N']).astype(int))\n",
    "\n",
    "    cm = confusion_matrix(df_analyze_minuit['Actual UP or DOWN'], df_analyze_minuit['Predicted UP or DOWN'])\n",
    "    acc = cm[0][0] + cm[1][1]\n",
    "    tot = cm.sum()\n",
    "    print(f'Accuracy : {acc/tot*100}%')\n",
    "    cm_df = pd.DataFrame(cm, index=['Actual DOWN', 'Actual UP'], columns=['Predicted DOWN', 'Predicted UP'])\n",
    "    \n",
    "    return df_analyze_minuit, cm_df\n",
    "\n",
    "def main_analyze_model(is_train):\n",
    "    model_name = \"Close_price-dataset_raw_6h-100\"\n",
    "    data_name = model_name.split('-')[1]\n",
    "    loaded_model = load(model_name)\n",
    "\n",
    "    (date_train, X_train, y_train, date_val, X_val, y_val, date_test, X_test, y_test), scaler_features, scaler_target = main_pre_processing(data_name, is_one_var=True)\n",
    "\n",
    "    analyze_for_data(loaded_model, scaler_features, scaler_target, date_train, X_train, y_train, date_test, X_test, y_test, date_val, X_val, y_val, is_train)"
   ]
  },
  {
   "cell_type": "code",
   "execution_count": 132,
   "metadata": {},
   "outputs": [
    {
     "name": "stdout",
     "output_type": "stream",
     "text": [
      "50/50 [==============================] - 1s 9ms/step\n",
      "X_shape : (1577, 28, 1)\n",
      "y_shape : (1577, 1)\n",
      "Accuracy : 52.151898734177216%\n",
      "#####TRAIN#####\n",
      "                    Date      Actual N    Actual N+1  Predictions N+1  Actual UP or DOWN  Predicted UP or DOWN\n",
      "0   2023-08-28 00:00:00  25971.208984  25934.439453     25993.750000                  0                     1\n",
      "4   2023-08-29 00:00:00  25826.021484  25733.310547     25925.316406                  0                     1\n",
      "8   2023-08-30 00:00:00  25792.101562  25746.548828     25864.382812                  0                     1\n",
      "12  2023-08-31 00:00:00  25759.951172  25788.919922     25864.894531                  1                     1\n",
      "16  2023-09-01 00:00:00  26255.001953  26239.429688     26137.166016                  0                     0\n",
      "20  2023-09-02 00:00:00  25910.500000  25844.919922     25968.060547                  0                     1\n",
      "24  2023-09-03 00:00:00  25901.609375  25847.810547     25958.636719                  0                     1\n",
      "28  2023-09-04 00:00:00  25841.611328  25892.968750     25879.818359                  1                     1\n",
      "32  2023-09-05 00:00:00  25162.519531  25773.080078     25745.794922                  1                     1\n",
      "36  2023-09-06 00:00:00  25840.099609  25900.009766     25923.458984                  1                     1\n",
      "40  2023-09-07 00:00:00  26222.000000  26194.759766     26218.759766                  0                     0\n",
      "44  2023-09-08 00:00:00  26522.728516  26588.990234     26581.019531                  1                     1\n",
      "48  2023-09-09 00:00:00  26600.000000  26537.759766     26581.609375                  0                     0\n",
      "52  2023-09-10 00:00:00  26559.669922  26543.789062     26627.253906                  0                     1\n",
      "56  2023-09-11 00:00:00  26527.509766  26647.451172     26592.224609                  1                     1\n",
      "######MATRICE DE CONFUSION#######\n",
      "              Predicted DOWN  Predicted UP\n",
      "Actual DOWN             173            25\n",
      "Actual UP               164            33\n",
      "Le répertoire '/home/alexander.lunel/Private/ML/Projet_ml/figure/Close_price-dataset_raw_6h-100' existe déjà.\n"
     ]
    },
    {
     "name": "stderr",
     "output_type": "stream",
     "text": [
      "/tmp/ipykernel_3730955/4104383911.py:15: SettingWithCopyWarning: \n",
      "A value is trying to be set on a copy of a slice from a DataFrame.\n",
      "Try using .loc[row_indexer,col_indexer] = value instead\n",
      "\n",
      "See the caveats in the documentation: https://pandas.pydata.org/pandas-docs/stable/user_guide/indexing.html#returning-a-view-versus-a-copy\n",
      "  df_analyze_minuit['Actual UP or DOWN'] = pd.DataFrame((df_analyze_minuit['Actual N+1'] > df_analyze_minuit['Actual N']).astype(int))\n",
      "/tmp/ipykernel_3730955/4104383911.py:16: SettingWithCopyWarning: \n",
      "A value is trying to be set on a copy of a slice from a DataFrame.\n",
      "Try using .loc[row_indexer,col_indexer] = value instead\n",
      "\n",
      "See the caveats in the documentation: https://pandas.pydata.org/pandas-docs/stable/user_guide/indexing.html#returning-a-view-versus-a-copy\n",
      "  df_analyze_minuit['Predicted UP or DOWN'] = pd.DataFrame((df_analyze_minuit['Predictions N+1'] > df_analyze_minuit['Actual N']).astype(int))\n"
     ]
    },
    {
     "data": {
      "image/png": "[encoded data removed]",
      "text/plain": [
       "<Figure size 640x480 with 1 Axes>"
      ]
     },
     "metadata": {},
     "output_type": "display_data"
    },
    {
     "name": "stdout",
     "output_type": "stream",
     "text": [
      "7/7 [==============================] - 1s 9ms/step\n",
      "X_shape : (197, 28, 1)\n",
      "y_shape : (197, 1)\n",
      "Accuracy : 38.775510204081634%\n",
      "#####VAL#####\n",
      "                    Date      Actual N    Actual N+1  Predictions N+1  Actual UP or DOWN  Predicted UP or DOWN\n",
      "3   2024-09-26 00:00:00  60649.281250  61176.011719     60479.179688                  1                     0\n",
      "7   2024-09-27 00:00:00  60752.714844  61224.339844     60414.769531                  1                     0\n",
      "11  2024-09-28 00:00:00  62086.003906  62149.472656     61774.335938                  1                     0\n",
      "15  2024-09-29 00:00:00  62058.000000  61938.507812     61753.675781                  0                     0\n",
      "19  2024-09-30 00:00:00  62819.910156  63380.011719     62507.214844                  1                     0\n",
      "23  2024-10-01 00:00:00  62224.003906  62517.351562     62143.347656                  1                     0\n",
      "27  2024-10-02 00:00:00  62160.492188  62524.093750     61899.097656                  1                     0\n",
      "31  2024-10-03 00:00:00  60636.019531  60941.484375     60488.660156                  1                     0\n",
      "35  2024-10-04 00:00:00  60326.394531  60600.000000     59920.648438                  1                     0\n",
      "39  2024-10-05 00:00:00  62540.000000  62778.011719     62317.398438                  1                     0\n",
      "43  2024-10-06 00:00:00  63206.222656  62853.917969     62876.308594                  0                     0\n",
      "47  2024-10-07 00:00:00  62870.023438  63941.539062     62526.281250                  1                     0\n",
      "51  2024-10-08 00:00:00  66083.992188  65363.242188     65701.695312                  0                     0\n",
      "55  2024-10-09 00:00:00  67074.140625  67218.742188     66697.015625                  1                     0\n",
      "59  2024-10-10 00:00:00  67620.015625  67340.820312     67276.390625                  0                     0\n",
      "######MATRICE DE CONFUSION#######\n",
      "              Predicted DOWN  Predicted UP\n",
      "Actual DOWN              19             0\n",
      "Actual UP                30             0\n",
      "Le répertoire '/home/alexander.lunel/Private/ML/Projet_ml/figure/Close_price-dataset_raw_6h-100' existe déjà.\n"
     ]
    },
    {
     "name": "stderr",
     "output_type": "stream",
     "text": [
      "/tmp/ipykernel_3730955/4104383911.py:15: SettingWithCopyWarning: \n",
      "A value is trying to be set on a copy of a slice from a DataFrame.\n",
      "Try using .loc[row_indexer,col_indexer] = value instead\n",
      "\n",
      "See the caveats in the documentation: https://pandas.pydata.org/pandas-docs/stable/user_guide/indexing.html#returning-a-view-versus-a-copy\n",
      "  df_analyze_minuit['Actual UP or DOWN'] = pd.DataFrame((df_analyze_minuit['Actual N+1'] > df_analyze_minuit['Actual N']).astype(int))\n",
      "/tmp/ipykernel_3730955/4104383911.py:16: SettingWithCopyWarning: \n",
      "A value is trying to be set on a copy of a slice from a DataFrame.\n",
      "Try using .loc[row_indexer,col_indexer] = value instead\n",
      "\n",
      "See the caveats in the documentation: https://pandas.pydata.org/pandas-docs/stable/user_guide/indexing.html#returning-a-view-versus-a-copy\n",
      "  df_analyze_minuit['Predicted UP or DOWN'] = pd.DataFrame((df_analyze_minuit['Predictions N+1'] > df_analyze_minuit['Actual N']).astype(int))\n"
     ]
    },
    {
     "data": {
      "image/png": "[encoded data removed]",
      "text/plain": [
       "<Figure size 640x480 with 1 Axes>"
      ]
     },
     "metadata": {},
     "output_type": "display_data"
    },
    {
     "name": "stdout",
     "output_type": "stream",
     "text": [
      "7/7 [==============================] - 1s 9ms/step\n",
      "X_shape : (198, 28, 1)\n",
      "y_shape : (198, 1)\n",
      "Accuracy : 55.35714285714286%\n",
      "#####TEST#####\n",
      "                    Date      Actual N     Actual N+1  Predictions N+1  Actual UP or DOWN  Predicted UP or DOWN\n",
      "2   2024-11-14 00:00:00  94286.562500   97328.000000     91340.234375                  1                     0\n",
      "6   2024-11-15 00:00:00  98317.125000   98790.968750     94707.226562                  1                     0\n",
      "10  2024-11-16 00:00:00  98892.000000   98755.148438     95546.554688                  0                     0\n",
      "14  2024-11-17 00:00:00  97672.398438   98264.437500     94747.398438                  1                     0\n",
      "18  2024-11-18 00:00:00  97900.039062   98082.695312     94604.695312                  1                     0\n",
      "22  2024-11-19 00:00:00  93010.015625   94647.960938     90930.937500                  1                     0\n",
      "26  2024-11-20 00:00:00  91965.164062   92768.015625     89916.234375                  1                     0\n",
      "30  2024-11-21 00:00:00  95863.109375   95443.429688     92631.242188                  0                     0\n",
      "34  2024-11-22 00:00:00  95643.976562   96153.859375     92559.437500                  1                     0\n",
      "38  2024-11-23 00:00:00  97460.000000   97102.320312     94107.015625                  0                     0\n",
      "42  2024-11-24 00:00:00  96407.992188   96308.828125     93539.945312                  0                     0\n",
      "46  2024-11-25 00:00:00  97185.187500   96359.992188     94083.906250                  0                     0\n",
      "50  2024-11-26 00:00:00  95840.617188   96155.171875     92918.929688                  1                     0\n",
      "54  2024-11-27 00:00:00  95849.687500   96480.218750     92909.929688                  1                     0\n",
      "58  2024-11-28 00:00:00  98587.320312  102450.007812     94723.179688                  1                     0\n",
      "######MATRICE DE CONFUSION#######\n",
      "              Predicted DOWN  Predicted UP\n",
      "Actual DOWN              31             0\n",
      "Actual UP                25             0\n",
      "Le répertoire '/home/alexander.lunel/Private/ML/Projet_ml/figure/Close_price-dataset_raw_6h-100' existe déjà.\n"
     ]
    },
    {
     "name": "stderr",
     "output_type": "stream",
     "text": [
      "/tmp/ipykernel_3730955/4104383911.py:15: SettingWithCopyWarning: \n",
      "A value is trying to be set on a copy of a slice from a DataFrame.\n",
      "Try using .loc[row_indexer,col_indexer] = value instead\n",
      "\n",
      "See the caveats in the documentation: https://pandas.pydata.org/pandas-docs/stable/user_guide/indexing.html#returning-a-view-versus-a-copy\n",
      "  df_analyze_minuit['Actual UP or DOWN'] = pd.DataFrame((df_analyze_minuit['Actual N+1'] > df_analyze_minuit['Actual N']).astype(int))\n",
      "/tmp/ipykernel_3730955/4104383911.py:16: SettingWithCopyWarning: \n",
      "A value is trying to be set on a copy of a slice from a DataFrame.\n",
      "Try using .loc[row_indexer,col_indexer] = value instead\n",
      "\n",
      "See the caveats in the documentation: https://pandas.pydata.org/pandas-docs/stable/user_guide/indexing.html#returning-a-view-versus-a-copy\n",
      "  df_analyze_minuit['Predicted UP or DOWN'] = pd.DataFrame((df_analyze_minuit['Predictions N+1'] > df_analyze_minuit['Actual N']).astype(int))\n"
     ]
    },
    {
     "data": {
      "image/png": "[encoded data removed]",
      "text/plain": [
       "<Figure size 640x480 with 1 Axes>"
      ]
     },
     "metadata": {},
     "output_type": "display_data"
    },
    {
     "data": {
      "text/plain": [
       "<Figure size 640x480 with 0 Axes>"
      ]
     },
     "metadata": {},
     "output_type": "display_data"
    }
   ],
   "source": [
    "\"is_train : 1 pour Train, 0 pour Test , autre pour val\"\n",
    "for is_train in (1, 2, 0):\n",
    "    main_analyze_model(is_train)"
   ]
  }
 ],
 "metadata": {
  "kernelspec": {
   "display_name": "Python 3",
   "language": "python",
   "name": "python3"
  },
  "language_info": {
   "codemirror_mode": {
    "name": "ipython",
    "version": 3
   },
   "file_extension": ".py",
   "mimetype": "text/x-python",
   "name": "python",
   "nbconvert_exporter": "python",
   "pygments_lexer": "ipython3",
   "version": "3.10.12"
  }
 },
 "nbformat": 4,
 "nbformat_minor": 2
}
